{
 "cells": [
  {
   "cell_type": "code",
   "execution_count": 7,
   "metadata": {},
   "outputs": [
    {
     "name": "stdout",
     "output_type": "stream",
     "text": [
      "The autoreload extension is already loaded. To reload it, use:\n",
      "  %reload_ext autoreload\n"
     ]
    }
   ],
   "source": [
    "%load_ext autoreload\n",
    "%autoreload 2"
   ]
  },
  {
   "cell_type": "code",
   "execution_count": 8,
   "metadata": {},
   "outputs": [],
   "source": [
    "import librosa as lr\n",
    "import numpy as np\n",
    "import torch"
   ]
  },
  {
   "cell_type": "code",
   "execution_count": 67,
   "metadata": {},
   "outputs": [],
   "source": [
    "filepath = r\"C:\\Users\\jiyun\\Desktop\\Jiyu\\2020-2021\\ESC499 - Thesis\\WaveNet\\magnatagatune\\data\\24_preludes_for_solo_piano\\jan_hanford-24_preludes_for_solo_piano-01-prelude_no__1_in_f_minor-30-59.mp3\"\n",
    "ytrain, sr = lr.load(filepath)"
   ]
  },
  {
   "cell_type": "code",
   "execution_count": 17,
   "metadata": {},
   "outputs": [
    {
     "data": {
      "text/plain": [
       "1023"
      ]
     },
     "execution_count": 17,
     "metadata": {},
     "output_type": "execute_result"
    }
   ],
   "source": [
    "np.sum([2 ** i for i in range(10)])"
   ]
  },
  {
   "cell_type": "code",
   "execution_count": 43,
   "metadata": {},
   "outputs": [],
   "source": [
    "from model import WaveNet\n",
    "from data_processing import Dataset"
   ]
  },
  {
   "cell_type": "code",
   "execution_count": 44,
   "metadata": {},
   "outputs": [],
   "source": [
    "model = WaveNet()"
   ]
  },
  {
   "cell_type": "code",
   "execution_count": 79,
   "metadata": {},
   "outputs": [],
   "source": [
    "filepath = r\"C:\\Users\\jiyun\\Desktop\\Jiyu\\2020-2021\\ESC499 - Thesis\\WaveNet\\magnatagatune\\data\\24_preludes_for_solo_piano\"\n",
    "dataset = Dataset(filepath)"
   ]
  },
  {
   "cell_type": "code",
   "execution_count": 10,
   "metadata": {},
   "outputs": [
    {
     "data": {
      "text/plain": [
       "50"
      ]
     },
     "execution_count": 10,
     "metadata": {},
     "output_type": "execute_result"
    }
   ],
   "source": [
    "len(dataset)"
   ]
  },
  {
   "cell_type": "code",
   "execution_count": 81,
   "metadata": {},
   "outputs": [
    {
     "data": {
      "text/plain": [
       "tensor(254)"
      ]
     },
     "execution_count": 81,
     "metadata": {},
     "output_type": "execute_result"
    }
   ],
   "source": [
    "dataset[0][1].max()"
   ]
  },
  {
   "cell_type": "code",
   "execution_count": 27,
   "metadata": {},
   "outputs": [
    {
     "data": {
      "text/plain": [
       "<function RandomState.seed>"
      ]
     },
     "execution_count": 27,
     "metadata": {},
     "output_type": "execute_result"
    }
   ],
   "source": [
    "np.random.seed"
   ]
  },
  {
   "cell_type": "code",
   "execution_count": 23,
   "metadata": {},
   "outputs": [],
   "source": [
    "from torch.utils import data"
   ]
  },
  {
   "cell_type": "code",
   "execution_count": 76,
   "metadata": {},
   "outputs": [],
   "source": [
    "loadtr = data.DataLoader(dataset, batch_size=1,shuffle=True,num_workers=0,worker_init_fn=np.random.seed)"
   ]
  },
  {
   "cell_type": "code",
   "execution_count": 70,
   "metadata": {
    "collapsed": true,
    "jupyter": {
     "outputs_hidden": true
    }
   },
   "outputs": [
    {
     "ename": "KeyboardInterrupt",
     "evalue": "",
     "output_type": "error",
     "traceback": [
      "\u001b[1;31m---------------------------------------------------------------------------\u001b[0m",
      "\u001b[1;31mRuntimeError\u001b[0m                              Traceback (most recent call last)",
      "\u001b[1;32m~\\anaconda3\\lib\\site-packages\\librosa\\core\\audio.py\u001b[0m in \u001b[0;36mload\u001b[1;34m(path, sr, mono, offset, duration, dtype, res_type)\u001b[0m\n\u001b[0;32m    145\u001b[0m     \u001b[1;32mtry\u001b[0m\u001b[1;33m:\u001b[0m\u001b[1;33m\u001b[0m\u001b[1;33m\u001b[0m\u001b[0m\n\u001b[1;32m--> 146\u001b[1;33m         \u001b[1;32mwith\u001b[0m \u001b[0msf\u001b[0m\u001b[1;33m.\u001b[0m\u001b[0mSoundFile\u001b[0m\u001b[1;33m(\u001b[0m\u001b[0mpath\u001b[0m\u001b[1;33m)\u001b[0m \u001b[1;32mas\u001b[0m \u001b[0msf_desc\u001b[0m\u001b[1;33m:\u001b[0m\u001b[1;33m\u001b[0m\u001b[1;33m\u001b[0m\u001b[0m\n\u001b[0m\u001b[0;32m    147\u001b[0m             \u001b[0msr_native\u001b[0m \u001b[1;33m=\u001b[0m \u001b[0msf_desc\u001b[0m\u001b[1;33m.\u001b[0m\u001b[0msamplerate\u001b[0m\u001b[1;33m\u001b[0m\u001b[1;33m\u001b[0m\u001b[0m\n",
      "\u001b[1;32m~\\anaconda3\\lib\\site-packages\\soundfile.py\u001b[0m in \u001b[0;36m__init__\u001b[1;34m(self, file, mode, samplerate, channels, subtype, endian, format, closefd)\u001b[0m\n\u001b[0;32m    628\u001b[0m                                          format, subtype, endian)\n\u001b[1;32m--> 629\u001b[1;33m         \u001b[0mself\u001b[0m\u001b[1;33m.\u001b[0m\u001b[0m_file\u001b[0m \u001b[1;33m=\u001b[0m \u001b[0mself\u001b[0m\u001b[1;33m.\u001b[0m\u001b[0m_open\u001b[0m\u001b[1;33m(\u001b[0m\u001b[0mfile\u001b[0m\u001b[1;33m,\u001b[0m \u001b[0mmode_int\u001b[0m\u001b[1;33m,\u001b[0m \u001b[0mclosefd\u001b[0m\u001b[1;33m)\u001b[0m\u001b[1;33m\u001b[0m\u001b[1;33m\u001b[0m\u001b[0m\n\u001b[0m\u001b[0;32m    630\u001b[0m         \u001b[1;32mif\u001b[0m \u001b[0mset\u001b[0m\u001b[1;33m(\u001b[0m\u001b[0mmode\u001b[0m\u001b[1;33m)\u001b[0m\u001b[1;33m.\u001b[0m\u001b[0missuperset\u001b[0m\u001b[1;33m(\u001b[0m\u001b[1;34m'r+'\u001b[0m\u001b[1;33m)\u001b[0m \u001b[1;32mand\u001b[0m \u001b[0mself\u001b[0m\u001b[1;33m.\u001b[0m\u001b[0mseekable\u001b[0m\u001b[1;33m(\u001b[0m\u001b[1;33m)\u001b[0m\u001b[1;33m:\u001b[0m\u001b[1;33m\u001b[0m\u001b[1;33m\u001b[0m\u001b[0m\n",
      "\u001b[1;32m~\\anaconda3\\lib\\site-packages\\soundfile.py\u001b[0m in \u001b[0;36m_open\u001b[1;34m(self, file, mode_int, closefd)\u001b[0m\n\u001b[0;32m   1182\u001b[0m             \u001b[1;32mraise\u001b[0m \u001b[0mTypeError\u001b[0m\u001b[1;33m(\u001b[0m\u001b[1;34m\"Invalid file: {0!r}\"\u001b[0m\u001b[1;33m.\u001b[0m\u001b[0mformat\u001b[0m\u001b[1;33m(\u001b[0m\u001b[0mself\u001b[0m\u001b[1;33m.\u001b[0m\u001b[0mname\u001b[0m\u001b[1;33m)\u001b[0m\u001b[1;33m)\u001b[0m\u001b[1;33m\u001b[0m\u001b[1;33m\u001b[0m\u001b[0m\n\u001b[1;32m-> 1183\u001b[1;33m         _error_check(_snd.sf_error(file_ptr),\n\u001b[0m\u001b[0;32m   1184\u001b[0m                      \"Error opening {0!r}: \".format(self.name))\n",
      "\u001b[1;32m~\\anaconda3\\lib\\site-packages\\soundfile.py\u001b[0m in \u001b[0;36m_error_check\u001b[1;34m(err, prefix)\u001b[0m\n\u001b[0;32m   1356\u001b[0m         \u001b[0merr_str\u001b[0m \u001b[1;33m=\u001b[0m \u001b[0m_snd\u001b[0m\u001b[1;33m.\u001b[0m\u001b[0msf_error_number\u001b[0m\u001b[1;33m(\u001b[0m\u001b[0merr\u001b[0m\u001b[1;33m)\u001b[0m\u001b[1;33m\u001b[0m\u001b[1;33m\u001b[0m\u001b[0m\n\u001b[1;32m-> 1357\u001b[1;33m         \u001b[1;32mraise\u001b[0m \u001b[0mRuntimeError\u001b[0m\u001b[1;33m(\u001b[0m\u001b[0mprefix\u001b[0m \u001b[1;33m+\u001b[0m \u001b[0m_ffi\u001b[0m\u001b[1;33m.\u001b[0m\u001b[0mstring\u001b[0m\u001b[1;33m(\u001b[0m\u001b[0merr_str\u001b[0m\u001b[1;33m)\u001b[0m\u001b[1;33m.\u001b[0m\u001b[0mdecode\u001b[0m\u001b[1;33m(\u001b[0m\u001b[1;34m'utf-8'\u001b[0m\u001b[1;33m,\u001b[0m \u001b[1;34m'replace'\u001b[0m\u001b[1;33m)\u001b[0m\u001b[1;33m)\u001b[0m\u001b[1;33m\u001b[0m\u001b[1;33m\u001b[0m\u001b[0m\n\u001b[0m\u001b[0;32m   1358\u001b[0m \u001b[1;33m\u001b[0m\u001b[0m\n",
      "\u001b[1;31mRuntimeError\u001b[0m: Error opening 'C:\\\\Users\\\\jiyun\\\\Desktop\\\\Jiyu\\\\2020-2021\\\\ESC499 - Thesis\\\\WaveNet\\\\magnatagatune\\\\data\\\\24_preludes_for_solo_piano\\\\jan_hanford-24_preludes_for_solo_piano-23-prelude_no__23_in_a_minor-59-88.mp3': File contains data in an unknown format.",
      "\nDuring handling of the above exception, another exception occurred:\n",
      "\u001b[1;31mKeyboardInterrupt\u001b[0m                         Traceback (most recent call last)",
      "\u001b[1;32m<ipython-input-70-f5447aa60664>\u001b[0m in \u001b[0;36m<module>\u001b[1;34m\u001b[0m\n\u001b[1;32m----> 1\u001b[1;33m \u001b[1;32mfor\u001b[0m \u001b[0miloader\u001b[0m\u001b[1;33m,\u001b[0m \u001b[0mytrain\u001b[0m \u001b[1;32min\u001b[0m \u001b[0mloadtr\u001b[0m\u001b[1;33m:\u001b[0m\u001b[1;33m\u001b[0m\u001b[1;33m\u001b[0m\u001b[0m\n\u001b[0m\u001b[0;32m      2\u001b[0m     \u001b[0mytrain\u001b[0m\u001b[1;33m.\u001b[0m\u001b[0mmax\u001b[0m\u001b[1;33m(\u001b[0m\u001b[1;33m)\u001b[0m\u001b[1;33m\u001b[0m\u001b[1;33m\u001b[0m\u001b[0m\n",
      "\u001b[1;32m~\\anaconda3\\lib\\site-packages\\torch\\utils\\data\\dataloader.py\u001b[0m in \u001b[0;36m__next__\u001b[1;34m(self)\u001b[0m\n\u001b[0;32m    433\u001b[0m         \u001b[1;32mif\u001b[0m \u001b[0mself\u001b[0m\u001b[1;33m.\u001b[0m\u001b[0m_sampler_iter\u001b[0m \u001b[1;32mis\u001b[0m \u001b[1;32mNone\u001b[0m\u001b[1;33m:\u001b[0m\u001b[1;33m\u001b[0m\u001b[1;33m\u001b[0m\u001b[0m\n\u001b[0;32m    434\u001b[0m             \u001b[0mself\u001b[0m\u001b[1;33m.\u001b[0m\u001b[0m_reset\u001b[0m\u001b[1;33m(\u001b[0m\u001b[1;33m)\u001b[0m\u001b[1;33m\u001b[0m\u001b[1;33m\u001b[0m\u001b[0m\n\u001b[1;32m--> 435\u001b[1;33m         \u001b[0mdata\u001b[0m \u001b[1;33m=\u001b[0m \u001b[0mself\u001b[0m\u001b[1;33m.\u001b[0m\u001b[0m_next_data\u001b[0m\u001b[1;33m(\u001b[0m\u001b[1;33m)\u001b[0m\u001b[1;33m\u001b[0m\u001b[1;33m\u001b[0m\u001b[0m\n\u001b[0m\u001b[0;32m    436\u001b[0m         \u001b[0mself\u001b[0m\u001b[1;33m.\u001b[0m\u001b[0m_num_yielded\u001b[0m \u001b[1;33m+=\u001b[0m \u001b[1;36m1\u001b[0m\u001b[1;33m\u001b[0m\u001b[1;33m\u001b[0m\u001b[0m\n\u001b[0;32m    437\u001b[0m         \u001b[1;32mif\u001b[0m \u001b[0mself\u001b[0m\u001b[1;33m.\u001b[0m\u001b[0m_dataset_kind\u001b[0m \u001b[1;33m==\u001b[0m \u001b[0m_DatasetKind\u001b[0m\u001b[1;33m.\u001b[0m\u001b[0mIterable\u001b[0m \u001b[1;32mand\u001b[0m\u001b[0;31m \u001b[0m\u001b[0;31m\\\u001b[0m\u001b[1;33m\u001b[0m\u001b[1;33m\u001b[0m\u001b[0m\n",
      "\u001b[1;32m~\\anaconda3\\lib\\site-packages\\torch\\utils\\data\\dataloader.py\u001b[0m in \u001b[0;36m_next_data\u001b[1;34m(self)\u001b[0m\n\u001b[0;32m    473\u001b[0m     \u001b[1;32mdef\u001b[0m \u001b[0m_next_data\u001b[0m\u001b[1;33m(\u001b[0m\u001b[0mself\u001b[0m\u001b[1;33m)\u001b[0m\u001b[1;33m:\u001b[0m\u001b[1;33m\u001b[0m\u001b[1;33m\u001b[0m\u001b[0m\n\u001b[0;32m    474\u001b[0m         \u001b[0mindex\u001b[0m \u001b[1;33m=\u001b[0m \u001b[0mself\u001b[0m\u001b[1;33m.\u001b[0m\u001b[0m_next_index\u001b[0m\u001b[1;33m(\u001b[0m\u001b[1;33m)\u001b[0m  \u001b[1;31m# may raise StopIteration\u001b[0m\u001b[1;33m\u001b[0m\u001b[1;33m\u001b[0m\u001b[0m\n\u001b[1;32m--> 475\u001b[1;33m         \u001b[0mdata\u001b[0m \u001b[1;33m=\u001b[0m \u001b[0mself\u001b[0m\u001b[1;33m.\u001b[0m\u001b[0m_dataset_fetcher\u001b[0m\u001b[1;33m.\u001b[0m\u001b[0mfetch\u001b[0m\u001b[1;33m(\u001b[0m\u001b[0mindex\u001b[0m\u001b[1;33m)\u001b[0m  \u001b[1;31m# may raise StopIteration\u001b[0m\u001b[1;33m\u001b[0m\u001b[1;33m\u001b[0m\u001b[0m\n\u001b[0m\u001b[0;32m    476\u001b[0m         \u001b[1;32mif\u001b[0m \u001b[0mself\u001b[0m\u001b[1;33m.\u001b[0m\u001b[0m_pin_memory\u001b[0m\u001b[1;33m:\u001b[0m\u001b[1;33m\u001b[0m\u001b[1;33m\u001b[0m\u001b[0m\n\u001b[0;32m    477\u001b[0m             \u001b[0mdata\u001b[0m \u001b[1;33m=\u001b[0m \u001b[0m_utils\u001b[0m\u001b[1;33m.\u001b[0m\u001b[0mpin_memory\u001b[0m\u001b[1;33m.\u001b[0m\u001b[0mpin_memory\u001b[0m\u001b[1;33m(\u001b[0m\u001b[0mdata\u001b[0m\u001b[1;33m)\u001b[0m\u001b[1;33m\u001b[0m\u001b[1;33m\u001b[0m\u001b[0m\n",
      "\u001b[1;32m~\\anaconda3\\lib\\site-packages\\torch\\utils\\data\\_utils\\fetch.py\u001b[0m in \u001b[0;36mfetch\u001b[1;34m(self, possibly_batched_index)\u001b[0m\n\u001b[0;32m     42\u001b[0m     \u001b[1;32mdef\u001b[0m \u001b[0mfetch\u001b[0m\u001b[1;33m(\u001b[0m\u001b[0mself\u001b[0m\u001b[1;33m,\u001b[0m \u001b[0mpossibly_batched_index\u001b[0m\u001b[1;33m)\u001b[0m\u001b[1;33m:\u001b[0m\u001b[1;33m\u001b[0m\u001b[1;33m\u001b[0m\u001b[0m\n\u001b[0;32m     43\u001b[0m         \u001b[1;32mif\u001b[0m \u001b[0mself\u001b[0m\u001b[1;33m.\u001b[0m\u001b[0mauto_collation\u001b[0m\u001b[1;33m:\u001b[0m\u001b[1;33m\u001b[0m\u001b[1;33m\u001b[0m\u001b[0m\n\u001b[1;32m---> 44\u001b[1;33m             \u001b[0mdata\u001b[0m \u001b[1;33m=\u001b[0m \u001b[1;33m[\u001b[0m\u001b[0mself\u001b[0m\u001b[1;33m.\u001b[0m\u001b[0mdataset\u001b[0m\u001b[1;33m[\u001b[0m\u001b[0midx\u001b[0m\u001b[1;33m]\u001b[0m \u001b[1;32mfor\u001b[0m \u001b[0midx\u001b[0m \u001b[1;32min\u001b[0m \u001b[0mpossibly_batched_index\u001b[0m\u001b[1;33m]\u001b[0m\u001b[1;33m\u001b[0m\u001b[1;33m\u001b[0m\u001b[0m\n\u001b[0m\u001b[0;32m     45\u001b[0m         \u001b[1;32melse\u001b[0m\u001b[1;33m:\u001b[0m\u001b[1;33m\u001b[0m\u001b[1;33m\u001b[0m\u001b[0m\n\u001b[0;32m     46\u001b[0m             \u001b[0mdata\u001b[0m \u001b[1;33m=\u001b[0m \u001b[0mself\u001b[0m\u001b[1;33m.\u001b[0m\u001b[0mdataset\u001b[0m\u001b[1;33m[\u001b[0m\u001b[0mpossibly_batched_index\u001b[0m\u001b[1;33m]\u001b[0m\u001b[1;33m\u001b[0m\u001b[1;33m\u001b[0m\u001b[0m\n",
      "\u001b[1;32m~\\anaconda3\\lib\\site-packages\\torch\\utils\\data\\_utils\\fetch.py\u001b[0m in \u001b[0;36m<listcomp>\u001b[1;34m(.0)\u001b[0m\n\u001b[0;32m     42\u001b[0m     \u001b[1;32mdef\u001b[0m \u001b[0mfetch\u001b[0m\u001b[1;33m(\u001b[0m\u001b[0mself\u001b[0m\u001b[1;33m,\u001b[0m \u001b[0mpossibly_batched_index\u001b[0m\u001b[1;33m)\u001b[0m\u001b[1;33m:\u001b[0m\u001b[1;33m\u001b[0m\u001b[1;33m\u001b[0m\u001b[0m\n\u001b[0;32m     43\u001b[0m         \u001b[1;32mif\u001b[0m \u001b[0mself\u001b[0m\u001b[1;33m.\u001b[0m\u001b[0mauto_collation\u001b[0m\u001b[1;33m:\u001b[0m\u001b[1;33m\u001b[0m\u001b[1;33m\u001b[0m\u001b[0m\n\u001b[1;32m---> 44\u001b[1;33m             \u001b[0mdata\u001b[0m \u001b[1;33m=\u001b[0m \u001b[1;33m[\u001b[0m\u001b[0mself\u001b[0m\u001b[1;33m.\u001b[0m\u001b[0mdataset\u001b[0m\u001b[1;33m[\u001b[0m\u001b[0midx\u001b[0m\u001b[1;33m]\u001b[0m \u001b[1;32mfor\u001b[0m \u001b[0midx\u001b[0m \u001b[1;32min\u001b[0m \u001b[0mpossibly_batched_index\u001b[0m\u001b[1;33m]\u001b[0m\u001b[1;33m\u001b[0m\u001b[1;33m\u001b[0m\u001b[0m\n\u001b[0m\u001b[0;32m     45\u001b[0m         \u001b[1;32melse\u001b[0m\u001b[1;33m:\u001b[0m\u001b[1;33m\u001b[0m\u001b[1;33m\u001b[0m\u001b[0m\n\u001b[0;32m     46\u001b[0m             \u001b[0mdata\u001b[0m \u001b[1;33m=\u001b[0m \u001b[0mself\u001b[0m\u001b[1;33m.\u001b[0m\u001b[0mdataset\u001b[0m\u001b[1;33m[\u001b[0m\u001b[0mpossibly_batched_index\u001b[0m\u001b[1;33m]\u001b[0m\u001b[1;33m\u001b[0m\u001b[1;33m\u001b[0m\u001b[0m\n",
      "\u001b[1;32m~\\Desktop\\Jiyu\\2020-2021\\ESC499 - Thesis\\WaveNet\\wavenet_pytorch\\data_processing.py\u001b[0m in \u001b[0;36m__getitem__\u001b[1;34m(self, index)\u001b[0m\n\u001b[0;32m     17\u001b[0m     \u001b[1;32mdef\u001b[0m \u001b[0m__getitem__\u001b[0m\u001b[1;33m(\u001b[0m\u001b[0mself\u001b[0m\u001b[1;33m,\u001b[0m \u001b[0mindex\u001b[0m\u001b[1;33m)\u001b[0m\u001b[1;33m:\u001b[0m\u001b[1;33m\u001b[0m\u001b[1;33m\u001b[0m\u001b[0m\n\u001b[0;32m     18\u001b[0m         \u001b[0mfile\u001b[0m \u001b[1;33m=\u001b[0m \u001b[0mself\u001b[0m\u001b[1;33m.\u001b[0m\u001b[0mfiles\u001b[0m\u001b[1;33m[\u001b[0m\u001b[0mindex\u001b[0m\u001b[1;33m]\u001b[0m\u001b[1;33m\u001b[0m\u001b[1;33m\u001b[0m\u001b[0m\n\u001b[1;32m---> 19\u001b[1;33m         \u001b[0my\u001b[0m\u001b[1;33m,\u001b[0m \u001b[0m_\u001b[0m \u001b[1;33m=\u001b[0m \u001b[0mlr\u001b[0m\u001b[1;33m.\u001b[0m\u001b[0mload\u001b[0m\u001b[1;33m(\u001b[0m\u001b[0mfile\u001b[0m\u001b[1;33m)\u001b[0m\u001b[1;33m\u001b[0m\u001b[1;33m\u001b[0m\u001b[0m\n\u001b[0m\u001b[0;32m     20\u001b[0m         \u001b[0my\u001b[0m \u001b[1;33m=\u001b[0m \u001b[0mself\u001b[0m\u001b[1;33m.\u001b[0m\u001b[0mmu_law_encode\u001b[0m\u001b[1;33m(\u001b[0m\u001b[0my\u001b[0m\u001b[1;33m)\u001b[0m\u001b[1;33m\u001b[0m\u001b[1;33m\u001b[0m\u001b[0m\n\u001b[0;32m     21\u001b[0m         \u001b[0my\u001b[0m \u001b[1;33m=\u001b[0m \u001b[0mtorch\u001b[0m\u001b[1;33m.\u001b[0m\u001b[0mfrom_numpy\u001b[0m\u001b[1;33m(\u001b[0m\u001b[0my\u001b[0m\u001b[1;33m.\u001b[0m\u001b[0mreshape\u001b[0m\u001b[1;33m(\u001b[0m\u001b[1;33m-\u001b[0m\u001b[1;36m1\u001b[0m\u001b[1;33m)\u001b[0m\u001b[1;33m)\u001b[0m\u001b[1;33m.\u001b[0m\u001b[0mtype\u001b[0m\u001b[1;33m(\u001b[0m\u001b[0mtorch\u001b[0m\u001b[1;33m.\u001b[0m\u001b[0mLongTensor\u001b[0m\u001b[1;33m)\u001b[0m \u001b[1;31m#convert to tensor\u001b[0m\u001b[1;33m\u001b[0m\u001b[1;33m\u001b[0m\u001b[0m\n",
      "\u001b[1;32m~\\anaconda3\\lib\\site-packages\\librosa\\core\\audio.py\u001b[0m in \u001b[0;36mload\u001b[1;34m(path, sr, mono, offset, duration, dtype, res_type)\u001b[0m\n\u001b[0;32m    161\u001b[0m         \u001b[1;32mif\u001b[0m \u001b[0misinstance\u001b[0m\u001b[1;33m(\u001b[0m\u001b[0mpath\u001b[0m\u001b[1;33m,\u001b[0m \u001b[1;33m(\u001b[0m\u001b[0mstr\u001b[0m\u001b[1;33m,\u001b[0m \u001b[0mpathlib\u001b[0m\u001b[1;33m.\u001b[0m\u001b[0mPurePath\u001b[0m\u001b[1;33m)\u001b[0m\u001b[1;33m)\u001b[0m\u001b[1;33m:\u001b[0m\u001b[1;33m\u001b[0m\u001b[1;33m\u001b[0m\u001b[0m\n\u001b[0;32m    162\u001b[0m             \u001b[0mwarnings\u001b[0m\u001b[1;33m.\u001b[0m\u001b[0mwarn\u001b[0m\u001b[1;33m(\u001b[0m\u001b[1;34m\"PySoundFile failed. Trying audioread instead.\"\u001b[0m\u001b[1;33m)\u001b[0m\u001b[1;33m\u001b[0m\u001b[1;33m\u001b[0m\u001b[0m\n\u001b[1;32m--> 163\u001b[1;33m             \u001b[0my\u001b[0m\u001b[1;33m,\u001b[0m \u001b[0msr_native\u001b[0m \u001b[1;33m=\u001b[0m \u001b[0m__audioread_load\u001b[0m\u001b[1;33m(\u001b[0m\u001b[0mpath\u001b[0m\u001b[1;33m,\u001b[0m \u001b[0moffset\u001b[0m\u001b[1;33m,\u001b[0m \u001b[0mduration\u001b[0m\u001b[1;33m,\u001b[0m \u001b[0mdtype\u001b[0m\u001b[1;33m)\u001b[0m\u001b[1;33m\u001b[0m\u001b[1;33m\u001b[0m\u001b[0m\n\u001b[0m\u001b[0;32m    164\u001b[0m         \u001b[1;32melse\u001b[0m\u001b[1;33m:\u001b[0m\u001b[1;33m\u001b[0m\u001b[1;33m\u001b[0m\u001b[0m\n\u001b[0;32m    165\u001b[0m             \u001b[1;32mraise\u001b[0m \u001b[1;33m(\u001b[0m\u001b[0mexc\u001b[0m\u001b[1;33m)\u001b[0m\u001b[1;33m\u001b[0m\u001b[1;33m\u001b[0m\u001b[0m\n",
      "\u001b[1;32m~\\anaconda3\\lib\\site-packages\\librosa\\core\\audio.py\u001b[0m in \u001b[0;36m__audioread_load\u001b[1;34m(path, offset, duration, dtype)\u001b[0m\n\u001b[0;32m    185\u001b[0m \u001b[1;33m\u001b[0m\u001b[0m\n\u001b[0;32m    186\u001b[0m     \u001b[0my\u001b[0m \u001b[1;33m=\u001b[0m \u001b[1;33m[\u001b[0m\u001b[1;33m]\u001b[0m\u001b[1;33m\u001b[0m\u001b[1;33m\u001b[0m\u001b[0m\n\u001b[1;32m--> 187\u001b[1;33m     \u001b[1;32mwith\u001b[0m \u001b[0maudioread\u001b[0m\u001b[1;33m.\u001b[0m\u001b[0maudio_open\u001b[0m\u001b[1;33m(\u001b[0m\u001b[0mpath\u001b[0m\u001b[1;33m)\u001b[0m \u001b[1;32mas\u001b[0m \u001b[0minput_file\u001b[0m\u001b[1;33m:\u001b[0m\u001b[1;33m\u001b[0m\u001b[1;33m\u001b[0m\u001b[0m\n\u001b[0m\u001b[0;32m    188\u001b[0m         \u001b[0msr_native\u001b[0m \u001b[1;33m=\u001b[0m \u001b[0minput_file\u001b[0m\u001b[1;33m.\u001b[0m\u001b[0msamplerate\u001b[0m\u001b[1;33m\u001b[0m\u001b[1;33m\u001b[0m\u001b[0m\n\u001b[0;32m    189\u001b[0m         \u001b[0mn_channels\u001b[0m \u001b[1;33m=\u001b[0m \u001b[0minput_file\u001b[0m\u001b[1;33m.\u001b[0m\u001b[0mchannels\u001b[0m\u001b[1;33m\u001b[0m\u001b[1;33m\u001b[0m\u001b[0m\n",
      "\u001b[1;32m~\\anaconda3\\lib\\site-packages\\audioread\\__init__.py\u001b[0m in \u001b[0;36maudio_open\u001b[1;34m(path, backends)\u001b[0m\n\u001b[0;32m    109\u001b[0m     \u001b[1;32mfor\u001b[0m \u001b[0mBackendClass\u001b[0m \u001b[1;32min\u001b[0m \u001b[0mbackends\u001b[0m\u001b[1;33m:\u001b[0m\u001b[1;33m\u001b[0m\u001b[1;33m\u001b[0m\u001b[0m\n\u001b[0;32m    110\u001b[0m         \u001b[1;32mtry\u001b[0m\u001b[1;33m:\u001b[0m\u001b[1;33m\u001b[0m\u001b[1;33m\u001b[0m\u001b[0m\n\u001b[1;32m--> 111\u001b[1;33m             \u001b[1;32mreturn\u001b[0m \u001b[0mBackendClass\u001b[0m\u001b[1;33m(\u001b[0m\u001b[0mpath\u001b[0m\u001b[1;33m)\u001b[0m\u001b[1;33m\u001b[0m\u001b[1;33m\u001b[0m\u001b[0m\n\u001b[0m\u001b[0;32m    112\u001b[0m         \u001b[1;32mexcept\u001b[0m \u001b[0mDecodeError\u001b[0m\u001b[1;33m:\u001b[0m\u001b[1;33m\u001b[0m\u001b[1;33m\u001b[0m\u001b[0m\n\u001b[0;32m    113\u001b[0m             \u001b[1;32mpass\u001b[0m\u001b[1;33m\u001b[0m\u001b[1;33m\u001b[0m\u001b[0m\n",
      "\u001b[1;32m~\\anaconda3\\lib\\site-packages\\audioread\\ffdec.py\u001b[0m in \u001b[0;36m__init__\u001b[1;34m(self, filename, block_size)\u001b[0m\n\u001b[0;32m    172\u001b[0m \u001b[1;33m\u001b[0m\u001b[0m\n\u001b[0;32m    173\u001b[0m         \u001b[1;31m# Read relevant information from stderr.\u001b[0m\u001b[1;33m\u001b[0m\u001b[1;33m\u001b[0m\u001b[1;33m\u001b[0m\u001b[0m\n\u001b[1;32m--> 174\u001b[1;33m         \u001b[0mself\u001b[0m\u001b[1;33m.\u001b[0m\u001b[0m_get_info\u001b[0m\u001b[1;33m(\u001b[0m\u001b[1;33m)\u001b[0m\u001b[1;33m\u001b[0m\u001b[1;33m\u001b[0m\u001b[0m\n\u001b[0m\u001b[0;32m    175\u001b[0m \u001b[1;33m\u001b[0m\u001b[0m\n\u001b[0;32m    176\u001b[0m         \u001b[1;31m# Start a separate thread to read the rest of the data from\u001b[0m\u001b[1;33m\u001b[0m\u001b[1;33m\u001b[0m\u001b[1;33m\u001b[0m\u001b[0m\n",
      "\u001b[1;32m~\\anaconda3\\lib\\site-packages\\audioread\\ffdec.py\u001b[0m in \u001b[0;36m_get_info\u001b[1;34m(self)\u001b[0m\n\u001b[0;32m    216\u001b[0m         \u001b[0mout_parts\u001b[0m \u001b[1;33m=\u001b[0m \u001b[1;33m[\u001b[0m\u001b[1;33m]\u001b[0m\u001b[1;33m\u001b[0m\u001b[1;33m\u001b[0m\u001b[0m\n\u001b[0;32m    217\u001b[0m         \u001b[1;32mwhile\u001b[0m \u001b[1;32mTrue\u001b[0m\u001b[1;33m:\u001b[0m\u001b[1;33m\u001b[0m\u001b[1;33m\u001b[0m\u001b[0m\n\u001b[1;32m--> 218\u001b[1;33m             \u001b[0mline\u001b[0m \u001b[1;33m=\u001b[0m \u001b[0mself\u001b[0m\u001b[1;33m.\u001b[0m\u001b[0mproc\u001b[0m\u001b[1;33m.\u001b[0m\u001b[0mstderr\u001b[0m\u001b[1;33m.\u001b[0m\u001b[0mreadline\u001b[0m\u001b[1;33m(\u001b[0m\u001b[1;33m)\u001b[0m\u001b[1;33m\u001b[0m\u001b[1;33m\u001b[0m\u001b[0m\n\u001b[0m\u001b[0;32m    219\u001b[0m             \u001b[1;32mif\u001b[0m \u001b[1;32mnot\u001b[0m \u001b[0mline\u001b[0m\u001b[1;33m:\u001b[0m\u001b[1;33m\u001b[0m\u001b[1;33m\u001b[0m\u001b[0m\n\u001b[0;32m    220\u001b[0m                 \u001b[1;31m# EOF and data not found.\u001b[0m\u001b[1;33m\u001b[0m\u001b[1;33m\u001b[0m\u001b[1;33m\u001b[0m\u001b[0m\n",
      "\u001b[1;31mKeyboardInterrupt\u001b[0m: "
     ]
    }
   ],
   "source": [
    "for iloader, ytrain in loadtr:\n",
    "    ytrain.max()"
   ]
  },
  {
   "cell_type": "code",
   "execution_count": 99,
   "metadata": {},
   "outputs": [],
   "source": [
    "dilations1 = [2 ** i for i in range(10)] * 1\n",
    "field = np.sum(dilations1) + 1"
   ]
  },
  {
   "cell_type": "code",
   "execution_count": 100,
   "metadata": {},
   "outputs": [
    {
     "data": {
      "text/plain": [
       "1024"
      ]
     },
     "execution_count": 100,
     "metadata": {},
     "output_type": "execute_result"
    }
   ],
   "source": [
    "field"
   ]
  },
  {
   "cell_type": "code",
   "execution_count": 56,
   "metadata": {},
   "outputs": [
    {
     "ename": "NotImplementedError",
     "evalue": "",
     "output_type": "error",
     "traceback": [
      "\u001b[1;31m---------------------------------------------------------------------------\u001b[0m",
      "\u001b[1;31mNotImplementedError\u001b[0m                       Traceback (most recent call last)",
      "\u001b[1;32m<ipython-input-56-e6d6d4b7930a>\u001b[0m in \u001b[0;36m<module>\u001b[1;34m\u001b[0m\n\u001b[1;32m----> 1\u001b[1;33m \u001b[0mmodel\u001b[0m\u001b[1;33m(\u001b[0m\u001b[0mytrain\u001b[0m\u001b[1;33m[\u001b[0m\u001b[1;33m:\u001b[0m\u001b[1;33m,\u001b[0m \u001b[1;36m1024\u001b[0m\u001b[1;33m:\u001b[0m\u001b[1;36m1024\u001b[0m \u001b[1;33m+\u001b[0m \u001b[1;36m16000\u001b[0m\u001b[1;33m]\u001b[0m\u001b[1;33m.\u001b[0m\u001b[0mto\u001b[0m\u001b[1;33m(\u001b[0m\u001b[1;34m'cuda'\u001b[0m\u001b[1;33m)\u001b[0m\u001b[1;33m)\u001b[0m\u001b[1;33m\u001b[0m\u001b[1;33m\u001b[0m\u001b[0m\n\u001b[0m",
      "\u001b[1;32m~\\anaconda3\\lib\\site-packages\\torch\\nn\\modules\\module.py\u001b[0m in \u001b[0;36m_call_impl\u001b[1;34m(self, *input, **kwargs)\u001b[0m\n\u001b[0;32m    725\u001b[0m             \u001b[0mresult\u001b[0m \u001b[1;33m=\u001b[0m \u001b[0mself\u001b[0m\u001b[1;33m.\u001b[0m\u001b[0m_slow_forward\u001b[0m\u001b[1;33m(\u001b[0m\u001b[1;33m*\u001b[0m\u001b[0minput\u001b[0m\u001b[1;33m,\u001b[0m \u001b[1;33m**\u001b[0m\u001b[0mkwargs\u001b[0m\u001b[1;33m)\u001b[0m\u001b[1;33m\u001b[0m\u001b[1;33m\u001b[0m\u001b[0m\n\u001b[0;32m    726\u001b[0m         \u001b[1;32melse\u001b[0m\u001b[1;33m:\u001b[0m\u001b[1;33m\u001b[0m\u001b[1;33m\u001b[0m\u001b[0m\n\u001b[1;32m--> 727\u001b[1;33m             \u001b[0mresult\u001b[0m \u001b[1;33m=\u001b[0m \u001b[0mself\u001b[0m\u001b[1;33m.\u001b[0m\u001b[0mforward\u001b[0m\u001b[1;33m(\u001b[0m\u001b[1;33m*\u001b[0m\u001b[0minput\u001b[0m\u001b[1;33m,\u001b[0m \u001b[1;33m**\u001b[0m\u001b[0mkwargs\u001b[0m\u001b[1;33m)\u001b[0m\u001b[1;33m\u001b[0m\u001b[1;33m\u001b[0m\u001b[0m\n\u001b[0m\u001b[0;32m    728\u001b[0m         for hook in itertools.chain(\n\u001b[0;32m    729\u001b[0m                 \u001b[0m_global_forward_hooks\u001b[0m\u001b[1;33m.\u001b[0m\u001b[0mvalues\u001b[0m\u001b[1;33m(\u001b[0m\u001b[1;33m)\u001b[0m\u001b[1;33m,\u001b[0m\u001b[1;33m\u001b[0m\u001b[1;33m\u001b[0m\u001b[0m\n",
      "\u001b[1;32m~\\anaconda3\\lib\\site-packages\\torch\\nn\\modules\\module.py\u001b[0m in \u001b[0;36m_forward_unimplemented\u001b[1;34m(self, *input)\u001b[0m\n\u001b[0;32m    173\u001b[0m         \u001b[0mregistered\u001b[0m \u001b[0mhooks\u001b[0m \u001b[1;32mwhile\u001b[0m \u001b[0mthe\u001b[0m \u001b[0mlatter\u001b[0m \u001b[0msilently\u001b[0m \u001b[0mignores\u001b[0m \u001b[0mthem\u001b[0m\u001b[1;33m.\u001b[0m\u001b[1;33m\u001b[0m\u001b[1;33m\u001b[0m\u001b[0m\n\u001b[0;32m    174\u001b[0m     \"\"\"\n\u001b[1;32m--> 175\u001b[1;33m     \u001b[1;32mraise\u001b[0m \u001b[0mNotImplementedError\u001b[0m\u001b[1;33m\u001b[0m\u001b[1;33m\u001b[0m\u001b[0m\n\u001b[0m\u001b[0;32m    176\u001b[0m \u001b[1;33m\u001b[0m\u001b[0m\n\u001b[0;32m    177\u001b[0m \u001b[1;33m\u001b[0m\u001b[0m\n",
      "\u001b[1;31mNotImplementedError\u001b[0m: "
     ]
    }
   ],
   "source": [
    "model(ytrain[:, 1024:1024 + 16000].to('cuda'))"
   ]
  },
  {
   "cell_type": "code",
   "execution_count": 90,
   "metadata": {},
   "outputs": [
    {
     "data": {
      "text/plain": [
       "torch.Size([1, 1, 642185])"
      ]
     },
     "execution_count": 90,
     "metadata": {},
     "output_type": "execute_result"
    }
   ],
   "source": [
    "y.size(2)-(self.rf-2)"
   ]
  },
  {
   "cell_type": "code",
   "execution_count": 98,
   "metadata": {},
   "outputs": [
    {
     "data": {
      "text/plain": [
       "642185"
      ]
     },
     "execution_count": 98,
     "metadata": {},
     "output_type": "execute_result"
    }
   ],
   "source": [
    "torch.zeros(1, 256, ytrain.shape[-1]).scatter_(dim=1, index=ytrain.reshape(1,1,-1), value=1.0).size(2)"
   ]
  },
  {
   "cell_type": "code",
   "execution_count": 49,
   "metadata": {},
   "outputs": [
    {
     "data": {
      "text/plain": [
       "array([  1024,  17024,  33024,  49024,  65024,  81024,  97024, 113024,\n",
       "       129024, 145024, 161024, 177024, 193024, 209024, 225024, 241024,\n",
       "       257024, 273024, 289024, 305024, 321024, 337024, 353024, 369024,\n",
       "       385024, 401024, 417024, 433024, 449024, 465024, 481024, 497024,\n",
       "       513024, 529024, 545024, 561024, 577024, 593024, 609024, 625024])"
      ]
     },
     "execution_count": 49,
     "metadata": {},
     "output_type": "execute_result"
    }
   ],
   "source": [
    "np.arange(0 + 1024, ytrain.shape[-1] - 1024 - 16000, 16000)"
   ]
  },
  {
   "cell_type": "code",
   "execution_count": 22,
   "metadata": {},
   "outputs": [
    {
     "data": {
      "text/plain": [
       "WaveNet(\n",
       "  (start_conv): Conv1d(256, 128, kernel_size=(1,), stride=(1,))\n",
       "  (ydcnn): ModuleList(\n",
       "    (0): Conv(\n",
       "      (conv): Conv1d(128, 256, kernel_size=(2,), stride=(1,))\n",
       "    )\n",
       "    (1): Conv(\n",
       "      (conv): Conv1d(128, 256, kernel_size=(2,), stride=(1,), dilation=(2,))\n",
       "    )\n",
       "    (2): Conv(\n",
       "      (conv): Conv1d(128, 256, kernel_size=(2,), stride=(1,), dilation=(4,))\n",
       "    )\n",
       "    (3): Conv(\n",
       "      (conv): Conv1d(128, 256, kernel_size=(2,), stride=(1,), dilation=(8,))\n",
       "    )\n",
       "    (4): Conv(\n",
       "      (conv): Conv1d(128, 256, kernel_size=(2,), stride=(1,), dilation=(16,))\n",
       "    )\n",
       "    (5): Conv(\n",
       "      (conv): Conv1d(128, 256, kernel_size=(2,), stride=(1,), dilation=(32,))\n",
       "    )\n",
       "    (6): Conv(\n",
       "      (conv): Conv1d(128, 256, kernel_size=(2,), stride=(1,), dilation=(64,))\n",
       "    )\n",
       "    (7): Conv(\n",
       "      (conv): Conv1d(128, 256, kernel_size=(2,), stride=(1,), dilation=(128,))\n",
       "    )\n",
       "    (8): Conv(\n",
       "      (conv): Conv1d(128, 256, kernel_size=(2,), stride=(1,), dilation=(256,))\n",
       "    )\n",
       "    (9): Conv(\n",
       "      (conv): Conv1d(128, 256, kernel_size=(2,), stride=(1,), dilation=(512,))\n",
       "    )\n",
       "    (10): Conv(\n",
       "      (conv): Conv1d(128, 256, kernel_size=(2,), stride=(1,))\n",
       "    )\n",
       "    (11): Conv(\n",
       "      (conv): Conv1d(128, 256, kernel_size=(2,), stride=(1,), dilation=(2,))\n",
       "    )\n",
       "    (12): Conv(\n",
       "      (conv): Conv1d(128, 256, kernel_size=(2,), stride=(1,), dilation=(4,))\n",
       "    )\n",
       "    (13): Conv(\n",
       "      (conv): Conv1d(128, 256, kernel_size=(2,), stride=(1,), dilation=(8,))\n",
       "    )\n",
       "    (14): Conv(\n",
       "      (conv): Conv1d(128, 256, kernel_size=(2,), stride=(1,), dilation=(16,))\n",
       "    )\n",
       "    (15): Conv(\n",
       "      (conv): Conv1d(128, 256, kernel_size=(2,), stride=(1,), dilation=(32,))\n",
       "    )\n",
       "    (16): Conv(\n",
       "      (conv): Conv1d(128, 256, kernel_size=(2,), stride=(1,), dilation=(64,))\n",
       "    )\n",
       "    (17): Conv(\n",
       "      (conv): Conv1d(128, 256, kernel_size=(2,), stride=(1,), dilation=(128,))\n",
       "    )\n",
       "    (18): Conv(\n",
       "      (conv): Conv1d(128, 256, kernel_size=(2,), stride=(1,), dilation=(256,))\n",
       "    )\n",
       "    (19): Conv(\n",
       "      (conv): Conv1d(128, 256, kernel_size=(2,), stride=(1,), dilation=(512,))\n",
       "    )\n",
       "    (20): Conv(\n",
       "      (conv): Conv1d(128, 256, kernel_size=(2,), stride=(1,))\n",
       "    )\n",
       "    (21): Conv(\n",
       "      (conv): Conv1d(128, 256, kernel_size=(2,), stride=(1,), dilation=(2,))\n",
       "    )\n",
       "    (22): Conv(\n",
       "      (conv): Conv1d(128, 256, kernel_size=(2,), stride=(1,), dilation=(4,))\n",
       "    )\n",
       "    (23): Conv(\n",
       "      (conv): Conv1d(128, 256, kernel_size=(2,), stride=(1,), dilation=(8,))\n",
       "    )\n",
       "    (24): Conv(\n",
       "      (conv): Conv1d(128, 256, kernel_size=(2,), stride=(1,), dilation=(16,))\n",
       "    )\n",
       "    (25): Conv(\n",
       "      (conv): Conv1d(128, 256, kernel_size=(2,), stride=(1,), dilation=(32,))\n",
       "    )\n",
       "    (26): Conv(\n",
       "      (conv): Conv1d(128, 256, kernel_size=(2,), stride=(1,), dilation=(64,))\n",
       "    )\n",
       "    (27): Conv(\n",
       "      (conv): Conv1d(128, 256, kernel_size=(2,), stride=(1,), dilation=(128,))\n",
       "    )\n",
       "    (28): Conv(\n",
       "      (conv): Conv1d(128, 256, kernel_size=(2,), stride=(1,), dilation=(256,))\n",
       "    )\n",
       "    (29): Conv(\n",
       "      (conv): Conv1d(128, 256, kernel_size=(2,), stride=(1,), dilation=(512,))\n",
       "    )\n",
       "  )\n",
       "  (ydense): ModuleList(\n",
       "    (0): Conv(\n",
       "      (conv): Conv1d(128, 128, kernel_size=(1,), stride=(1,))\n",
       "    )\n",
       "    (1): Conv(\n",
       "      (conv): Conv1d(128, 128, kernel_size=(1,), stride=(1,))\n",
       "    )\n",
       "    (2): Conv(\n",
       "      (conv): Conv1d(128, 128, kernel_size=(1,), stride=(1,))\n",
       "    )\n",
       "    (3): Conv(\n",
       "      (conv): Conv1d(128, 128, kernel_size=(1,), stride=(1,))\n",
       "    )\n",
       "    (4): Conv(\n",
       "      (conv): Conv1d(128, 128, kernel_size=(1,), stride=(1,))\n",
       "    )\n",
       "    (5): Conv(\n",
       "      (conv): Conv1d(128, 128, kernel_size=(1,), stride=(1,))\n",
       "    )\n",
       "    (6): Conv(\n",
       "      (conv): Conv1d(128, 128, kernel_size=(1,), stride=(1,))\n",
       "    )\n",
       "    (7): Conv(\n",
       "      (conv): Conv1d(128, 128, kernel_size=(1,), stride=(1,))\n",
       "    )\n",
       "    (8): Conv(\n",
       "      (conv): Conv1d(128, 128, kernel_size=(1,), stride=(1,))\n",
       "    )\n",
       "    (9): Conv(\n",
       "      (conv): Conv1d(128, 128, kernel_size=(1,), stride=(1,))\n",
       "    )\n",
       "    (10): Conv(\n",
       "      (conv): Conv1d(128, 128, kernel_size=(1,), stride=(1,))\n",
       "    )\n",
       "    (11): Conv(\n",
       "      (conv): Conv1d(128, 128, kernel_size=(1,), stride=(1,))\n",
       "    )\n",
       "    (12): Conv(\n",
       "      (conv): Conv1d(128, 128, kernel_size=(1,), stride=(1,))\n",
       "    )\n",
       "    (13): Conv(\n",
       "      (conv): Conv1d(128, 128, kernel_size=(1,), stride=(1,))\n",
       "    )\n",
       "    (14): Conv(\n",
       "      (conv): Conv1d(128, 128, kernel_size=(1,), stride=(1,))\n",
       "    )\n",
       "    (15): Conv(\n",
       "      (conv): Conv1d(128, 128, kernel_size=(1,), stride=(1,))\n",
       "    )\n",
       "    (16): Conv(\n",
       "      (conv): Conv1d(128, 128, kernel_size=(1,), stride=(1,))\n",
       "    )\n",
       "    (17): Conv(\n",
       "      (conv): Conv1d(128, 128, kernel_size=(1,), stride=(1,))\n",
       "    )\n",
       "    (18): Conv(\n",
       "      (conv): Conv1d(128, 128, kernel_size=(1,), stride=(1,))\n",
       "    )\n",
       "    (19): Conv(\n",
       "      (conv): Conv1d(128, 128, kernel_size=(1,), stride=(1,))\n",
       "    )\n",
       "    (20): Conv(\n",
       "      (conv): Conv1d(128, 128, kernel_size=(1,), stride=(1,))\n",
       "    )\n",
       "    (21): Conv(\n",
       "      (conv): Conv1d(128, 128, kernel_size=(1,), stride=(1,))\n",
       "    )\n",
       "    (22): Conv(\n",
       "      (conv): Conv1d(128, 128, kernel_size=(1,), stride=(1,))\n",
       "    )\n",
       "    (23): Conv(\n",
       "      (conv): Conv1d(128, 128, kernel_size=(1,), stride=(1,))\n",
       "    )\n",
       "    (24): Conv(\n",
       "      (conv): Conv1d(128, 128, kernel_size=(1,), stride=(1,))\n",
       "    )\n",
       "    (25): Conv(\n",
       "      (conv): Conv1d(128, 128, kernel_size=(1,), stride=(1,))\n",
       "    )\n",
       "    (26): Conv(\n",
       "      (conv): Conv1d(128, 128, kernel_size=(1,), stride=(1,))\n",
       "    )\n",
       "    (27): Conv(\n",
       "      (conv): Conv1d(128, 128, kernel_size=(1,), stride=(1,))\n",
       "    )\n",
       "    (28): Conv(\n",
       "      (conv): Conv1d(128, 128, kernel_size=(1,), stride=(1,))\n",
       "    )\n",
       "    (29): Conv(\n",
       "      (conv): Conv1d(128, 128, kernel_size=(1,), stride=(1,))\n",
       "    )\n",
       "  )\n",
       "  (yskip): ModuleList(\n",
       "    (0): Conv(\n",
       "      (conv): Conv1d(128, 512, kernel_size=(1,), stride=(1,))\n",
       "    )\n",
       "    (1): Conv(\n",
       "      (conv): Conv1d(128, 512, kernel_size=(1,), stride=(1,))\n",
       "    )\n",
       "    (2): Conv(\n",
       "      (conv): Conv1d(128, 512, kernel_size=(1,), stride=(1,))\n",
       "    )\n",
       "    (3): Conv(\n",
       "      (conv): Conv1d(128, 512, kernel_size=(1,), stride=(1,))\n",
       "    )\n",
       "    (4): Conv(\n",
       "      (conv): Conv1d(128, 512, kernel_size=(1,), stride=(1,))\n",
       "    )\n",
       "    (5): Conv(\n",
       "      (conv): Conv1d(128, 512, kernel_size=(1,), stride=(1,))\n",
       "    )\n",
       "    (6): Conv(\n",
       "      (conv): Conv1d(128, 512, kernel_size=(1,), stride=(1,))\n",
       "    )\n",
       "    (7): Conv(\n",
       "      (conv): Conv1d(128, 512, kernel_size=(1,), stride=(1,))\n",
       "    )\n",
       "    (8): Conv(\n",
       "      (conv): Conv1d(128, 512, kernel_size=(1,), stride=(1,))\n",
       "    )\n",
       "    (9): Conv(\n",
       "      (conv): Conv1d(128, 512, kernel_size=(1,), stride=(1,))\n",
       "    )\n",
       "    (10): Conv(\n",
       "      (conv): Conv1d(128, 512, kernel_size=(1,), stride=(1,))\n",
       "    )\n",
       "    (11): Conv(\n",
       "      (conv): Conv1d(128, 512, kernel_size=(1,), stride=(1,))\n",
       "    )\n",
       "    (12): Conv(\n",
       "      (conv): Conv1d(128, 512, kernel_size=(1,), stride=(1,))\n",
       "    )\n",
       "    (13): Conv(\n",
       "      (conv): Conv1d(128, 512, kernel_size=(1,), stride=(1,))\n",
       "    )\n",
       "    (14): Conv(\n",
       "      (conv): Conv1d(128, 512, kernel_size=(1,), stride=(1,))\n",
       "    )\n",
       "    (15): Conv(\n",
       "      (conv): Conv1d(128, 512, kernel_size=(1,), stride=(1,))\n",
       "    )\n",
       "    (16): Conv(\n",
       "      (conv): Conv1d(128, 512, kernel_size=(1,), stride=(1,))\n",
       "    )\n",
       "    (17): Conv(\n",
       "      (conv): Conv1d(128, 512, kernel_size=(1,), stride=(1,))\n",
       "    )\n",
       "    (18): Conv(\n",
       "      (conv): Conv1d(128, 512, kernel_size=(1,), stride=(1,))\n",
       "    )\n",
       "    (19): Conv(\n",
       "      (conv): Conv1d(128, 512, kernel_size=(1,), stride=(1,))\n",
       "    )\n",
       "    (20): Conv(\n",
       "      (conv): Conv1d(128, 512, kernel_size=(1,), stride=(1,))\n",
       "    )\n",
       "    (21): Conv(\n",
       "      (conv): Conv1d(128, 512, kernel_size=(1,), stride=(1,))\n",
       "    )\n",
       "    (22): Conv(\n",
       "      (conv): Conv1d(128, 512, kernel_size=(1,), stride=(1,))\n",
       "    )\n",
       "    (23): Conv(\n",
       "      (conv): Conv1d(128, 512, kernel_size=(1,), stride=(1,))\n",
       "    )\n",
       "    (24): Conv(\n",
       "      (conv): Conv1d(128, 512, kernel_size=(1,), stride=(1,))\n",
       "    )\n",
       "    (25): Conv(\n",
       "      (conv): Conv1d(128, 512, kernel_size=(1,), stride=(1,))\n",
       "    )\n",
       "    (26): Conv(\n",
       "      (conv): Conv1d(128, 512, kernel_size=(1,), stride=(1,))\n",
       "    )\n",
       "    (27): Conv(\n",
       "      (conv): Conv1d(128, 512, kernel_size=(1,), stride=(1,))\n",
       "    )\n",
       "    (28): Conv(\n",
       "      (conv): Conv1d(128, 512, kernel_size=(1,), stride=(1,))\n",
       "    )\n",
       "    (29): Conv(\n",
       "      (conv): Conv1d(128, 512, kernel_size=(1,), stride=(1,))\n",
       "    )\n",
       "  )\n",
       "  (end_conv1): Conv(\n",
       "    (conv): Conv1d(512, 256, kernel_size=(1,), stride=(1,), bias=False)\n",
       "  )\n",
       ")"
      ]
     },
     "execution_count": 22,
     "metadata": {},
     "output_type": "execute_result"
    }
   ],
   "source": [
    "model.eval()"
   ]
  },
  {
   "cell_type": "code",
   "execution_count": 20,
   "metadata": {},
   "outputs": [],
   "source": [
    "filepath = r\"C:\\Users\\jiyun\\Desktop\\Jiyu\\2020-2021\\ESC499 - Thesis\\WaveNet\\magnatagatune\\data\\24_preludes_for_solo_piano\""
   ]
  },
  {
   "cell_type": "code",
   "execution_count": 27,
   "metadata": {},
   "outputs": [
    {
     "data": {
      "text/plain": [
       "'C:\\\\Users\\\\jiyun\\\\Desktop\\\\Jiyu\\\\2020-2021\\\\ESC499 - Thesis\\\\WaveNet\\\\magnatagatune\\\\data\\\\24_preludes_for_solo_pianojan_hanford-24_preludes_for_solo_piano-01-prelude_no__1_in_f_minor-30-59.mp3'"
      ]
     },
     "execution_count": 27,
     "metadata": {},
     "output_type": "execute_result"
    }
   ],
   "source": [
    "filepath+os.listdir(filepath)[0]"
   ]
  },
  {
   "cell_type": "code",
   "execution_count": 32,
   "metadata": {},
   "outputs": [
    {
     "data": {
      "text/plain": [
       "'C:\\\\Users\\\\jiyun\\\\Desktop\\\\Jiyu\\\\2020-2021\\\\ESC499 - Thesis\\\\WaveNet\\\\magnatagatune\\\\data\\\\24_preludes_for_solo_piano\\\\*.mp3'"
      ]
     },
     "execution_count": 32,
     "metadata": {},
     "output_type": "execute_result"
    }
   ],
   "source": [
    "os.path.join(filepath, '*.mp3')"
   ]
  },
  {
   "cell_type": "code",
   "execution_count": 34,
   "metadata": {
    "collapsed": true,
    "jupyter": {
     "outputs_hidden": true
    }
   },
   "outputs": [
    {
     "data": {
      "text/plain": [
       "['C:\\\\Users\\\\jiyun\\\\Desktop\\\\Jiyu\\\\2020-2021\\\\ESC499 - Thesis\\\\WaveNet\\\\magnatagatune\\\\data\\\\24_preludes_for_solo_piano\\\\jan_hanford-24_preludes_for_solo_piano-01-prelude_no__1_in_f_minor-30-59.mp3',\n",
       " 'C:\\\\Users\\\\jiyun\\\\Desktop\\\\Jiyu\\\\2020-2021\\\\ESC499 - Thesis\\\\WaveNet\\\\magnatagatune\\\\data\\\\24_preludes_for_solo_piano\\\\jan_hanford-24_preludes_for_solo_piano-02-prelude_no__2_in_g_minor-30-59.mp3',\n",
       " 'C:\\\\Users\\\\jiyun\\\\Desktop\\\\Jiyu\\\\2020-2021\\\\ESC499 - Thesis\\\\WaveNet\\\\magnatagatune\\\\data\\\\24_preludes_for_solo_piano\\\\jan_hanford-24_preludes_for_solo_piano-02-prelude_no__2_in_g_minor-59-88.mp3',\n",
       " 'C:\\\\Users\\\\jiyun\\\\Desktop\\\\Jiyu\\\\2020-2021\\\\ESC499 - Thesis\\\\WaveNet\\\\magnatagatune\\\\data\\\\24_preludes_for_solo_piano\\\\jan_hanford-24_preludes_for_solo_piano-03-prelude_no__3_in_a_minor-0-29.mp3',\n",
       " 'C:\\\\Users\\\\jiyun\\\\Desktop\\\\Jiyu\\\\2020-2021\\\\ESC499 - Thesis\\\\WaveNet\\\\magnatagatune\\\\data\\\\24_preludes_for_solo_piano\\\\jan_hanford-24_preludes_for_solo_piano-04-prelude_no__4_in_f_major-0-29.mp3',\n",
       " 'C:\\\\Users\\\\jiyun\\\\Desktop\\\\Jiyu\\\\2020-2021\\\\ESC499 - Thesis\\\\WaveNet\\\\magnatagatune\\\\data\\\\24_preludes_for_solo_piano\\\\jan_hanford-24_preludes_for_solo_piano-04-prelude_no__4_in_f_major-146-175.mp3',\n",
       " 'C:\\\\Users\\\\jiyun\\\\Desktop\\\\Jiyu\\\\2020-2021\\\\ESC499 - Thesis\\\\WaveNet\\\\magnatagatune\\\\data\\\\24_preludes_for_solo_piano\\\\jan_hanford-24_preludes_for_solo_piano-04-prelude_no__4_in_f_major-175-204.mp3',\n",
       " 'C:\\\\Users\\\\jiyun\\\\Desktop\\\\Jiyu\\\\2020-2021\\\\ESC499 - Thesis\\\\WaveNet\\\\magnatagatune\\\\data\\\\24_preludes_for_solo_piano\\\\jan_hanford-24_preludes_for_solo_piano-05-prelude_no__5_in_g_minor-0-29.mp3',\n",
       " 'C:\\\\Users\\\\jiyun\\\\Desktop\\\\Jiyu\\\\2020-2021\\\\ESC499 - Thesis\\\\WaveNet\\\\magnatagatune\\\\data\\\\24_preludes_for_solo_piano\\\\jan_hanford-24_preludes_for_solo_piano-05-prelude_no__5_in_g_minor-30-59.mp3',\n",
       " 'C:\\\\Users\\\\jiyun\\\\Desktop\\\\Jiyu\\\\2020-2021\\\\ESC499 - Thesis\\\\WaveNet\\\\magnatagatune\\\\data\\\\24_preludes_for_solo_piano\\\\jan_hanford-24_preludes_for_solo_piano-05-prelude_no__5_in_g_minor-59-88.mp3',\n",
       " 'C:\\\\Users\\\\jiyun\\\\Desktop\\\\Jiyu\\\\2020-2021\\\\ESC499 - Thesis\\\\WaveNet\\\\magnatagatune\\\\data\\\\24_preludes_for_solo_piano\\\\jan_hanford-24_preludes_for_solo_piano-06-prelude_no__6_in_g_minor-30-59.mp3',\n",
       " 'C:\\\\Users\\\\jiyun\\\\Desktop\\\\Jiyu\\\\2020-2021\\\\ESC499 - Thesis\\\\WaveNet\\\\magnatagatune\\\\data\\\\24_preludes_for_solo_piano\\\\jan_hanford-24_preludes_for_solo_piano-06-prelude_no__6_in_g_minor-59-88.mp3',\n",
       " 'C:\\\\Users\\\\jiyun\\\\Desktop\\\\Jiyu\\\\2020-2021\\\\ESC499 - Thesis\\\\WaveNet\\\\magnatagatune\\\\data\\\\24_preludes_for_solo_piano\\\\jan_hanford-24_preludes_for_solo_piano-07-prelude_no__7_in_a_minor-30-59.mp3',\n",
       " 'C:\\\\Users\\\\jiyun\\\\Desktop\\\\Jiyu\\\\2020-2021\\\\ESC499 - Thesis\\\\WaveNet\\\\magnatagatune\\\\data\\\\24_preludes_for_solo_piano\\\\jan_hanford-24_preludes_for_solo_piano-07-prelude_no__7_in_a_minor-59-88.mp3',\n",
       " 'C:\\\\Users\\\\jiyun\\\\Desktop\\\\Jiyu\\\\2020-2021\\\\ESC499 - Thesis\\\\WaveNet\\\\magnatagatune\\\\data\\\\24_preludes_for_solo_piano\\\\jan_hanford-24_preludes_for_solo_piano-07-prelude_no__7_in_a_minor-88-117.mp3',\n",
       " 'C:\\\\Users\\\\jiyun\\\\Desktop\\\\Jiyu\\\\2020-2021\\\\ESC499 - Thesis\\\\WaveNet\\\\magnatagatune\\\\data\\\\24_preludes_for_solo_piano\\\\jan_hanford-24_preludes_for_solo_piano-08-prelude_no__8_in_b_minor-0-29.mp3',\n",
       " 'C:\\\\Users\\\\jiyun\\\\Desktop\\\\Jiyu\\\\2020-2021\\\\ESC499 - Thesis\\\\WaveNet\\\\magnatagatune\\\\data\\\\24_preludes_for_solo_piano\\\\jan_hanford-24_preludes_for_solo_piano-08-prelude_no__8_in_b_minor-30-59.mp3',\n",
       " 'C:\\\\Users\\\\jiyun\\\\Desktop\\\\Jiyu\\\\2020-2021\\\\ESC499 - Thesis\\\\WaveNet\\\\magnatagatune\\\\data\\\\24_preludes_for_solo_piano\\\\jan_hanford-24_preludes_for_solo_piano-08-prelude_no__8_in_b_minor-59-88.mp3',\n",
       " 'C:\\\\Users\\\\jiyun\\\\Desktop\\\\Jiyu\\\\2020-2021\\\\ESC499 - Thesis\\\\WaveNet\\\\magnatagatune\\\\data\\\\24_preludes_for_solo_piano\\\\jan_hanford-24_preludes_for_solo_piano-09-prelude_no__9_in_c_minor-0-29.mp3',\n",
       " 'C:\\\\Users\\\\jiyun\\\\Desktop\\\\Jiyu\\\\2020-2021\\\\ESC499 - Thesis\\\\WaveNet\\\\magnatagatune\\\\data\\\\24_preludes_for_solo_piano\\\\jan_hanford-24_preludes_for_solo_piano-09-prelude_no__9_in_c_minor-30-59.mp3',\n",
       " 'C:\\\\Users\\\\jiyun\\\\Desktop\\\\Jiyu\\\\2020-2021\\\\ESC499 - Thesis\\\\WaveNet\\\\magnatagatune\\\\data\\\\24_preludes_for_solo_piano\\\\jan_hanford-24_preludes_for_solo_piano-09-prelude_no__9_in_c_minor-59-88.mp3',\n",
       " 'C:\\\\Users\\\\jiyun\\\\Desktop\\\\Jiyu\\\\2020-2021\\\\ESC499 - Thesis\\\\WaveNet\\\\magnatagatune\\\\data\\\\24_preludes_for_solo_piano\\\\jan_hanford-24_preludes_for_solo_piano-09-prelude_no__9_in_c_minor-88-117.mp3',\n",
       " 'C:\\\\Users\\\\jiyun\\\\Desktop\\\\Jiyu\\\\2020-2021\\\\ESC499 - Thesis\\\\WaveNet\\\\magnatagatune\\\\data\\\\24_preludes_for_solo_piano\\\\jan_hanford-24_preludes_for_solo_piano-10-prelude_no__10_in_d_minor-59-88.mp3',\n",
       " 'C:\\\\Users\\\\jiyun\\\\Desktop\\\\Jiyu\\\\2020-2021\\\\ESC499 - Thesis\\\\WaveNet\\\\magnatagatune\\\\data\\\\24_preludes_for_solo_piano\\\\jan_hanford-24_preludes_for_solo_piano-10-prelude_no__10_in_d_minor-88-117.mp3',\n",
       " 'C:\\\\Users\\\\jiyun\\\\Desktop\\\\Jiyu\\\\2020-2021\\\\ESC499 - Thesis\\\\WaveNet\\\\magnatagatune\\\\data\\\\24_preludes_for_solo_piano\\\\jan_hanford-24_preludes_for_solo_piano-11-prelude_no__11_in_e_minor-0-29.mp3',\n",
       " 'C:\\\\Users\\\\jiyun\\\\Desktop\\\\Jiyu\\\\2020-2021\\\\ESC499 - Thesis\\\\WaveNet\\\\magnatagatune\\\\data\\\\24_preludes_for_solo_piano\\\\jan_hanford-24_preludes_for_solo_piano-11-prelude_no__11_in_e_minor-30-59.mp3',\n",
       " 'C:\\\\Users\\\\jiyun\\\\Desktop\\\\Jiyu\\\\2020-2021\\\\ESC499 - Thesis\\\\WaveNet\\\\magnatagatune\\\\data\\\\24_preludes_for_solo_piano\\\\jan_hanford-24_preludes_for_solo_piano-11-prelude_no__11_in_e_minor-59-88.mp3',\n",
       " 'C:\\\\Users\\\\jiyun\\\\Desktop\\\\Jiyu\\\\2020-2021\\\\ESC499 - Thesis\\\\WaveNet\\\\magnatagatune\\\\data\\\\24_preludes_for_solo_piano\\\\jan_hanford-24_preludes_for_solo_piano-13-prelude_no__13_in_g_minor-30-59.mp3',\n",
       " 'C:\\\\Users\\\\jiyun\\\\Desktop\\\\Jiyu\\\\2020-2021\\\\ESC499 - Thesis\\\\WaveNet\\\\magnatagatune\\\\data\\\\24_preludes_for_solo_piano\\\\jan_hanford-24_preludes_for_solo_piano-14-prelude_no__14_in_d_minor-0-29.mp3',\n",
       " 'C:\\\\Users\\\\jiyun\\\\Desktop\\\\Jiyu\\\\2020-2021\\\\ESC499 - Thesis\\\\WaveNet\\\\magnatagatune\\\\data\\\\24_preludes_for_solo_piano\\\\jan_hanford-24_preludes_for_solo_piano-14-prelude_no__14_in_d_minor-30-59.mp3',\n",
       " 'C:\\\\Users\\\\jiyun\\\\Desktop\\\\Jiyu\\\\2020-2021\\\\ESC499 - Thesis\\\\WaveNet\\\\magnatagatune\\\\data\\\\24_preludes_for_solo_piano\\\\jan_hanford-24_preludes_for_solo_piano-14-prelude_no__14_in_d_minor-59-88.mp3',\n",
       " 'C:\\\\Users\\\\jiyun\\\\Desktop\\\\Jiyu\\\\2020-2021\\\\ESC499 - Thesis\\\\WaveNet\\\\magnatagatune\\\\data\\\\24_preludes_for_solo_piano\\\\jan_hanford-24_preludes_for_solo_piano-15-prelude_no__15_in_a_minor-30-59.mp3',\n",
       " 'C:\\\\Users\\\\jiyun\\\\Desktop\\\\Jiyu\\\\2020-2021\\\\ESC499 - Thesis\\\\WaveNet\\\\magnatagatune\\\\data\\\\24_preludes_for_solo_piano\\\\jan_hanford-24_preludes_for_solo_piano-15-prelude_no__15_in_a_minor-59-88.mp3',\n",
       " 'C:\\\\Users\\\\jiyun\\\\Desktop\\\\Jiyu\\\\2020-2021\\\\ESC499 - Thesis\\\\WaveNet\\\\magnatagatune\\\\data\\\\24_preludes_for_solo_piano\\\\jan_hanford-24_preludes_for_solo_piano-15-prelude_no__15_in_a_minor-88-117.mp3',\n",
       " 'C:\\\\Users\\\\jiyun\\\\Desktop\\\\Jiyu\\\\2020-2021\\\\ESC499 - Thesis\\\\WaveNet\\\\magnatagatune\\\\data\\\\24_preludes_for_solo_piano\\\\jan_hanford-24_preludes_for_solo_piano-17-prelude_no__17_in_c_minor-0-29.mp3',\n",
       " 'C:\\\\Users\\\\jiyun\\\\Desktop\\\\Jiyu\\\\2020-2021\\\\ESC499 - Thesis\\\\WaveNet\\\\magnatagatune\\\\data\\\\24_preludes_for_solo_piano\\\\jan_hanford-24_preludes_for_solo_piano-17-prelude_no__17_in_c_minor-117-146.mp3',\n",
       " 'C:\\\\Users\\\\jiyun\\\\Desktop\\\\Jiyu\\\\2020-2021\\\\ESC499 - Thesis\\\\WaveNet\\\\magnatagatune\\\\data\\\\24_preludes_for_solo_piano\\\\jan_hanford-24_preludes_for_solo_piano-17-prelude_no__17_in_c_minor-59-88.mp3',\n",
       " 'C:\\\\Users\\\\jiyun\\\\Desktop\\\\Jiyu\\\\2020-2021\\\\ESC499 - Thesis\\\\WaveNet\\\\magnatagatune\\\\data\\\\24_preludes_for_solo_piano\\\\jan_hanford-24_preludes_for_solo_piano-18-prelude_no__18_in_f_minor-0-29.mp3',\n",
       " 'C:\\\\Users\\\\jiyun\\\\Desktop\\\\Jiyu\\\\2020-2021\\\\ESC499 - Thesis\\\\WaveNet\\\\magnatagatune\\\\data\\\\24_preludes_for_solo_piano\\\\jan_hanford-24_preludes_for_solo_piano-18-prelude_no__18_in_f_minor-88-117.mp3',\n",
       " 'C:\\\\Users\\\\jiyun\\\\Desktop\\\\Jiyu\\\\2020-2021\\\\ESC499 - Thesis\\\\WaveNet\\\\magnatagatune\\\\data\\\\24_preludes_for_solo_piano\\\\jan_hanford-24_preludes_for_solo_piano-19-prelude_no__19_in_g_minor-30-59.mp3',\n",
       " 'C:\\\\Users\\\\jiyun\\\\Desktop\\\\Jiyu\\\\2020-2021\\\\ESC499 - Thesis\\\\WaveNet\\\\magnatagatune\\\\data\\\\24_preludes_for_solo_piano\\\\jan_hanford-24_preludes_for_solo_piano-20-prelude_no__20_in_d_minor-30-59.mp3',\n",
       " 'C:\\\\Users\\\\jiyun\\\\Desktop\\\\Jiyu\\\\2020-2021\\\\ESC499 - Thesis\\\\WaveNet\\\\magnatagatune\\\\data\\\\24_preludes_for_solo_piano\\\\jan_hanford-24_preludes_for_solo_piano-20-prelude_no__20_in_d_minor-88-117.mp3',\n",
       " 'C:\\\\Users\\\\jiyun\\\\Desktop\\\\Jiyu\\\\2020-2021\\\\ESC499 - Thesis\\\\WaveNet\\\\magnatagatune\\\\data\\\\24_preludes_for_solo_piano\\\\jan_hanford-24_preludes_for_solo_piano-21-prelude_no__21_in_a_minor-0-29.mp3',\n",
       " 'C:\\\\Users\\\\jiyun\\\\Desktop\\\\Jiyu\\\\2020-2021\\\\ESC499 - Thesis\\\\WaveNet\\\\magnatagatune\\\\data\\\\24_preludes_for_solo_piano\\\\jan_hanford-24_preludes_for_solo_piano-22-prelude_no__22_in_c_major-0-29.mp3',\n",
       " 'C:\\\\Users\\\\jiyun\\\\Desktop\\\\Jiyu\\\\2020-2021\\\\ESC499 - Thesis\\\\WaveNet\\\\magnatagatune\\\\data\\\\24_preludes_for_solo_piano\\\\jan_hanford-24_preludes_for_solo_piano-22-prelude_no__22_in_c_major-30-59.mp3',\n",
       " 'C:\\\\Users\\\\jiyun\\\\Desktop\\\\Jiyu\\\\2020-2021\\\\ESC499 - Thesis\\\\WaveNet\\\\magnatagatune\\\\data\\\\24_preludes_for_solo_piano\\\\jan_hanford-24_preludes_for_solo_piano-23-prelude_no__23_in_a_minor-30-59.mp3',\n",
       " 'C:\\\\Users\\\\jiyun\\\\Desktop\\\\Jiyu\\\\2020-2021\\\\ESC499 - Thesis\\\\WaveNet\\\\magnatagatune\\\\data\\\\24_preludes_for_solo_piano\\\\jan_hanford-24_preludes_for_solo_piano-23-prelude_no__23_in_a_minor-59-88.mp3',\n",
       " 'C:\\\\Users\\\\jiyun\\\\Desktop\\\\Jiyu\\\\2020-2021\\\\ESC499 - Thesis\\\\WaveNet\\\\magnatagatune\\\\data\\\\24_preludes_for_solo_piano\\\\jan_hanford-24_preludes_for_solo_piano-24-prelude_no__24_in_c_minor-0-29.mp3',\n",
       " 'C:\\\\Users\\\\jiyun\\\\Desktop\\\\Jiyu\\\\2020-2021\\\\ESC499 - Thesis\\\\WaveNet\\\\magnatagatune\\\\data\\\\24_preludes_for_solo_piano\\\\jan_hanford-24_preludes_for_solo_piano-24-prelude_no__24_in_c_minor-30-59.mp3',\n",
       " 'C:\\\\Users\\\\jiyun\\\\Desktop\\\\Jiyu\\\\2020-2021\\\\ESC499 - Thesis\\\\WaveNet\\\\magnatagatune\\\\data\\\\24_preludes_for_solo_piano\\\\jan_hanford-24_preludes_for_solo_piano-24-prelude_no__24_in_c_minor-59-88.mp3']"
      ]
     },
     "execution_count": 34,
     "metadata": {},
     "output_type": "execute_result"
    }
   ],
   "source": [
    "glob.glob(os.path.join(filepath, '*.mp3'))"
   ]
  },
  {
   "cell_type": "code",
   "execution_count": 35,
   "metadata": {},
   "outputs": [
    {
     "data": {
      "text/plain": [
       "(array([0., 0., 0., ..., 0., 0., 0.], dtype=float32), 22050)"
      ]
     },
     "execution_count": 35,
     "metadata": {},
     "output_type": "execute_result"
    }
   ],
   "source": [
    "lr.load(glob.glob(os.path.join(filepath, '*.mp3'))[0])"
   ]
  },
  {
   "cell_type": "code",
   "execution_count": 15,
   "metadata": {
    "collapsed": true,
    "jupyter": {
     "outputs_hidden": true
    }
   },
   "outputs": [
    {
     "data": {
      "text/plain": [
       "['C:\\\\Users\\\\jiyun\\\\Desktop\\\\Jiyu\\\\2020-2021\\\\ESC499 - Thesis\\\\WaveNet\\\\magnatagatune\\\\data\\\\24_preludes_for_solo_piano\\\\jan_hanford-24_preludes_for_solo_piano-01-prelude_no__1_in_f_minor-30-59.mp3',\n",
       " 'C:\\\\Users\\\\jiyun\\\\Desktop\\\\Jiyu\\\\2020-2021\\\\ESC499 - Thesis\\\\WaveNet\\\\magnatagatune\\\\data\\\\24_preludes_for_solo_piano\\\\jan_hanford-24_preludes_for_solo_piano-02-prelude_no__2_in_g_minor-30-59.mp3',\n",
       " 'C:\\\\Users\\\\jiyun\\\\Desktop\\\\Jiyu\\\\2020-2021\\\\ESC499 - Thesis\\\\WaveNet\\\\magnatagatune\\\\data\\\\24_preludes_for_solo_piano\\\\jan_hanford-24_preludes_for_solo_piano-02-prelude_no__2_in_g_minor-59-88.mp3',\n",
       " 'C:\\\\Users\\\\jiyun\\\\Desktop\\\\Jiyu\\\\2020-2021\\\\ESC499 - Thesis\\\\WaveNet\\\\magnatagatune\\\\data\\\\24_preludes_for_solo_piano\\\\jan_hanford-24_preludes_for_solo_piano-03-prelude_no__3_in_a_minor-0-29.mp3',\n",
       " 'C:\\\\Users\\\\jiyun\\\\Desktop\\\\Jiyu\\\\2020-2021\\\\ESC499 - Thesis\\\\WaveNet\\\\magnatagatune\\\\data\\\\24_preludes_for_solo_piano\\\\jan_hanford-24_preludes_for_solo_piano-04-prelude_no__4_in_f_major-0-29.mp3',\n",
       " 'C:\\\\Users\\\\jiyun\\\\Desktop\\\\Jiyu\\\\2020-2021\\\\ESC499 - Thesis\\\\WaveNet\\\\magnatagatune\\\\data\\\\24_preludes_for_solo_piano\\\\jan_hanford-24_preludes_for_solo_piano-04-prelude_no__4_in_f_major-146-175.mp3',\n",
       " 'C:\\\\Users\\\\jiyun\\\\Desktop\\\\Jiyu\\\\2020-2021\\\\ESC499 - Thesis\\\\WaveNet\\\\magnatagatune\\\\data\\\\24_preludes_for_solo_piano\\\\jan_hanford-24_preludes_for_solo_piano-04-prelude_no__4_in_f_major-175-204.mp3',\n",
       " 'C:\\\\Users\\\\jiyun\\\\Desktop\\\\Jiyu\\\\2020-2021\\\\ESC499 - Thesis\\\\WaveNet\\\\magnatagatune\\\\data\\\\24_preludes_for_solo_piano\\\\jan_hanford-24_preludes_for_solo_piano-05-prelude_no__5_in_g_minor-0-29.mp3',\n",
       " 'C:\\\\Users\\\\jiyun\\\\Desktop\\\\Jiyu\\\\2020-2021\\\\ESC499 - Thesis\\\\WaveNet\\\\magnatagatune\\\\data\\\\24_preludes_for_solo_piano\\\\jan_hanford-24_preludes_for_solo_piano-05-prelude_no__5_in_g_minor-30-59.mp3',\n",
       " 'C:\\\\Users\\\\jiyun\\\\Desktop\\\\Jiyu\\\\2020-2021\\\\ESC499 - Thesis\\\\WaveNet\\\\magnatagatune\\\\data\\\\24_preludes_for_solo_piano\\\\jan_hanford-24_preludes_for_solo_piano-05-prelude_no__5_in_g_minor-59-88.mp3',\n",
       " 'C:\\\\Users\\\\jiyun\\\\Desktop\\\\Jiyu\\\\2020-2021\\\\ESC499 - Thesis\\\\WaveNet\\\\magnatagatune\\\\data\\\\24_preludes_for_solo_piano\\\\jan_hanford-24_preludes_for_solo_piano-06-prelude_no__6_in_g_minor-30-59.mp3',\n",
       " 'C:\\\\Users\\\\jiyun\\\\Desktop\\\\Jiyu\\\\2020-2021\\\\ESC499 - Thesis\\\\WaveNet\\\\magnatagatune\\\\data\\\\24_preludes_for_solo_piano\\\\jan_hanford-24_preludes_for_solo_piano-06-prelude_no__6_in_g_minor-59-88.mp3',\n",
       " 'C:\\\\Users\\\\jiyun\\\\Desktop\\\\Jiyu\\\\2020-2021\\\\ESC499 - Thesis\\\\WaveNet\\\\magnatagatune\\\\data\\\\24_preludes_for_solo_piano\\\\jan_hanford-24_preludes_for_solo_piano-07-prelude_no__7_in_a_minor-30-59.mp3',\n",
       " 'C:\\\\Users\\\\jiyun\\\\Desktop\\\\Jiyu\\\\2020-2021\\\\ESC499 - Thesis\\\\WaveNet\\\\magnatagatune\\\\data\\\\24_preludes_for_solo_piano\\\\jan_hanford-24_preludes_for_solo_piano-07-prelude_no__7_in_a_minor-59-88.mp3',\n",
       " 'C:\\\\Users\\\\jiyun\\\\Desktop\\\\Jiyu\\\\2020-2021\\\\ESC499 - Thesis\\\\WaveNet\\\\magnatagatune\\\\data\\\\24_preludes_for_solo_piano\\\\jan_hanford-24_preludes_for_solo_piano-07-prelude_no__7_in_a_minor-88-117.mp3',\n",
       " 'C:\\\\Users\\\\jiyun\\\\Desktop\\\\Jiyu\\\\2020-2021\\\\ESC499 - Thesis\\\\WaveNet\\\\magnatagatune\\\\data\\\\24_preludes_for_solo_piano\\\\jan_hanford-24_preludes_for_solo_piano-08-prelude_no__8_in_b_minor-0-29.mp3',\n",
       " 'C:\\\\Users\\\\jiyun\\\\Desktop\\\\Jiyu\\\\2020-2021\\\\ESC499 - Thesis\\\\WaveNet\\\\magnatagatune\\\\data\\\\24_preludes_for_solo_piano\\\\jan_hanford-24_preludes_for_solo_piano-08-prelude_no__8_in_b_minor-30-59.mp3',\n",
       " 'C:\\\\Users\\\\jiyun\\\\Desktop\\\\Jiyu\\\\2020-2021\\\\ESC499 - Thesis\\\\WaveNet\\\\magnatagatune\\\\data\\\\24_preludes_for_solo_piano\\\\jan_hanford-24_preludes_for_solo_piano-08-prelude_no__8_in_b_minor-59-88.mp3',\n",
       " 'C:\\\\Users\\\\jiyun\\\\Desktop\\\\Jiyu\\\\2020-2021\\\\ESC499 - Thesis\\\\WaveNet\\\\magnatagatune\\\\data\\\\24_preludes_for_solo_piano\\\\jan_hanford-24_preludes_for_solo_piano-09-prelude_no__9_in_c_minor-0-29.mp3',\n",
       " 'C:\\\\Users\\\\jiyun\\\\Desktop\\\\Jiyu\\\\2020-2021\\\\ESC499 - Thesis\\\\WaveNet\\\\magnatagatune\\\\data\\\\24_preludes_for_solo_piano\\\\jan_hanford-24_preludes_for_solo_piano-09-prelude_no__9_in_c_minor-30-59.mp3',\n",
       " 'C:\\\\Users\\\\jiyun\\\\Desktop\\\\Jiyu\\\\2020-2021\\\\ESC499 - Thesis\\\\WaveNet\\\\magnatagatune\\\\data\\\\24_preludes_for_solo_piano\\\\jan_hanford-24_preludes_for_solo_piano-09-prelude_no__9_in_c_minor-59-88.mp3',\n",
       " 'C:\\\\Users\\\\jiyun\\\\Desktop\\\\Jiyu\\\\2020-2021\\\\ESC499 - Thesis\\\\WaveNet\\\\magnatagatune\\\\data\\\\24_preludes_for_solo_piano\\\\jan_hanford-24_preludes_for_solo_piano-09-prelude_no__9_in_c_minor-88-117.mp3',\n",
       " 'C:\\\\Users\\\\jiyun\\\\Desktop\\\\Jiyu\\\\2020-2021\\\\ESC499 - Thesis\\\\WaveNet\\\\magnatagatune\\\\data\\\\24_preludes_for_solo_piano\\\\jan_hanford-24_preludes_for_solo_piano-10-prelude_no__10_in_d_minor-59-88.mp3',\n",
       " 'C:\\\\Users\\\\jiyun\\\\Desktop\\\\Jiyu\\\\2020-2021\\\\ESC499 - Thesis\\\\WaveNet\\\\magnatagatune\\\\data\\\\24_preludes_for_solo_piano\\\\jan_hanford-24_preludes_for_solo_piano-10-prelude_no__10_in_d_minor-88-117.mp3',\n",
       " 'C:\\\\Users\\\\jiyun\\\\Desktop\\\\Jiyu\\\\2020-2021\\\\ESC499 - Thesis\\\\WaveNet\\\\magnatagatune\\\\data\\\\24_preludes_for_solo_piano\\\\jan_hanford-24_preludes_for_solo_piano-11-prelude_no__11_in_e_minor-0-29.mp3',\n",
       " 'C:\\\\Users\\\\jiyun\\\\Desktop\\\\Jiyu\\\\2020-2021\\\\ESC499 - Thesis\\\\WaveNet\\\\magnatagatune\\\\data\\\\24_preludes_for_solo_piano\\\\jan_hanford-24_preludes_for_solo_piano-11-prelude_no__11_in_e_minor-30-59.mp3',\n",
       " 'C:\\\\Users\\\\jiyun\\\\Desktop\\\\Jiyu\\\\2020-2021\\\\ESC499 - Thesis\\\\WaveNet\\\\magnatagatune\\\\data\\\\24_preludes_for_solo_piano\\\\jan_hanford-24_preludes_for_solo_piano-11-prelude_no__11_in_e_minor-59-88.mp3',\n",
       " 'C:\\\\Users\\\\jiyun\\\\Desktop\\\\Jiyu\\\\2020-2021\\\\ESC499 - Thesis\\\\WaveNet\\\\magnatagatune\\\\data\\\\24_preludes_for_solo_piano\\\\jan_hanford-24_preludes_for_solo_piano-13-prelude_no__13_in_g_minor-30-59.mp3',\n",
       " 'C:\\\\Users\\\\jiyun\\\\Desktop\\\\Jiyu\\\\2020-2021\\\\ESC499 - Thesis\\\\WaveNet\\\\magnatagatune\\\\data\\\\24_preludes_for_solo_piano\\\\jan_hanford-24_preludes_for_solo_piano-14-prelude_no__14_in_d_minor-0-29.mp3',\n",
       " 'C:\\\\Users\\\\jiyun\\\\Desktop\\\\Jiyu\\\\2020-2021\\\\ESC499 - Thesis\\\\WaveNet\\\\magnatagatune\\\\data\\\\24_preludes_for_solo_piano\\\\jan_hanford-24_preludes_for_solo_piano-14-prelude_no__14_in_d_minor-30-59.mp3',\n",
       " 'C:\\\\Users\\\\jiyun\\\\Desktop\\\\Jiyu\\\\2020-2021\\\\ESC499 - Thesis\\\\WaveNet\\\\magnatagatune\\\\data\\\\24_preludes_for_solo_piano\\\\jan_hanford-24_preludes_for_solo_piano-14-prelude_no__14_in_d_minor-59-88.mp3',\n",
       " 'C:\\\\Users\\\\jiyun\\\\Desktop\\\\Jiyu\\\\2020-2021\\\\ESC499 - Thesis\\\\WaveNet\\\\magnatagatune\\\\data\\\\24_preludes_for_solo_piano\\\\jan_hanford-24_preludes_for_solo_piano-15-prelude_no__15_in_a_minor-30-59.mp3',\n",
       " 'C:\\\\Users\\\\jiyun\\\\Desktop\\\\Jiyu\\\\2020-2021\\\\ESC499 - Thesis\\\\WaveNet\\\\magnatagatune\\\\data\\\\24_preludes_for_solo_piano\\\\jan_hanford-24_preludes_for_solo_piano-15-prelude_no__15_in_a_minor-59-88.mp3',\n",
       " 'C:\\\\Users\\\\jiyun\\\\Desktop\\\\Jiyu\\\\2020-2021\\\\ESC499 - Thesis\\\\WaveNet\\\\magnatagatune\\\\data\\\\24_preludes_for_solo_piano\\\\jan_hanford-24_preludes_for_solo_piano-15-prelude_no__15_in_a_minor-88-117.mp3',\n",
       " 'C:\\\\Users\\\\jiyun\\\\Desktop\\\\Jiyu\\\\2020-2021\\\\ESC499 - Thesis\\\\WaveNet\\\\magnatagatune\\\\data\\\\24_preludes_for_solo_piano\\\\jan_hanford-24_preludes_for_solo_piano-17-prelude_no__17_in_c_minor-0-29.mp3',\n",
       " 'C:\\\\Users\\\\jiyun\\\\Desktop\\\\Jiyu\\\\2020-2021\\\\ESC499 - Thesis\\\\WaveNet\\\\magnatagatune\\\\data\\\\24_preludes_for_solo_piano\\\\jan_hanford-24_preludes_for_solo_piano-17-prelude_no__17_in_c_minor-117-146.mp3',\n",
       " 'C:\\\\Users\\\\jiyun\\\\Desktop\\\\Jiyu\\\\2020-2021\\\\ESC499 - Thesis\\\\WaveNet\\\\magnatagatune\\\\data\\\\24_preludes_for_solo_piano\\\\jan_hanford-24_preludes_for_solo_piano-17-prelude_no__17_in_c_minor-59-88.mp3',\n",
       " 'C:\\\\Users\\\\jiyun\\\\Desktop\\\\Jiyu\\\\2020-2021\\\\ESC499 - Thesis\\\\WaveNet\\\\magnatagatune\\\\data\\\\24_preludes_for_solo_piano\\\\jan_hanford-24_preludes_for_solo_piano-18-prelude_no__18_in_f_minor-0-29.mp3',\n",
       " 'C:\\\\Users\\\\jiyun\\\\Desktop\\\\Jiyu\\\\2020-2021\\\\ESC499 - Thesis\\\\WaveNet\\\\magnatagatune\\\\data\\\\24_preludes_for_solo_piano\\\\jan_hanford-24_preludes_for_solo_piano-18-prelude_no__18_in_f_minor-88-117.mp3',\n",
       " 'C:\\\\Users\\\\jiyun\\\\Desktop\\\\Jiyu\\\\2020-2021\\\\ESC499 - Thesis\\\\WaveNet\\\\magnatagatune\\\\data\\\\24_preludes_for_solo_piano\\\\jan_hanford-24_preludes_for_solo_piano-19-prelude_no__19_in_g_minor-30-59.mp3',\n",
       " 'C:\\\\Users\\\\jiyun\\\\Desktop\\\\Jiyu\\\\2020-2021\\\\ESC499 - Thesis\\\\WaveNet\\\\magnatagatune\\\\data\\\\24_preludes_for_solo_piano\\\\jan_hanford-24_preludes_for_solo_piano-20-prelude_no__20_in_d_minor-30-59.mp3',\n",
       " 'C:\\\\Users\\\\jiyun\\\\Desktop\\\\Jiyu\\\\2020-2021\\\\ESC499 - Thesis\\\\WaveNet\\\\magnatagatune\\\\data\\\\24_preludes_for_solo_piano\\\\jan_hanford-24_preludes_for_solo_piano-20-prelude_no__20_in_d_minor-88-117.mp3',\n",
       " 'C:\\\\Users\\\\jiyun\\\\Desktop\\\\Jiyu\\\\2020-2021\\\\ESC499 - Thesis\\\\WaveNet\\\\magnatagatune\\\\data\\\\24_preludes_for_solo_piano\\\\jan_hanford-24_preludes_for_solo_piano-21-prelude_no__21_in_a_minor-0-29.mp3',\n",
       " 'C:\\\\Users\\\\jiyun\\\\Desktop\\\\Jiyu\\\\2020-2021\\\\ESC499 - Thesis\\\\WaveNet\\\\magnatagatune\\\\data\\\\24_preludes_for_solo_piano\\\\jan_hanford-24_preludes_for_solo_piano-22-prelude_no__22_in_c_major-0-29.mp3',\n",
       " 'C:\\\\Users\\\\jiyun\\\\Desktop\\\\Jiyu\\\\2020-2021\\\\ESC499 - Thesis\\\\WaveNet\\\\magnatagatune\\\\data\\\\24_preludes_for_solo_piano\\\\jan_hanford-24_preludes_for_solo_piano-22-prelude_no__22_in_c_major-30-59.mp3',\n",
       " 'C:\\\\Users\\\\jiyun\\\\Desktop\\\\Jiyu\\\\2020-2021\\\\ESC499 - Thesis\\\\WaveNet\\\\magnatagatune\\\\data\\\\24_preludes_for_solo_piano\\\\jan_hanford-24_preludes_for_solo_piano-23-prelude_no__23_in_a_minor-30-59.mp3',\n",
       " 'C:\\\\Users\\\\jiyun\\\\Desktop\\\\Jiyu\\\\2020-2021\\\\ESC499 - Thesis\\\\WaveNet\\\\magnatagatune\\\\data\\\\24_preludes_for_solo_piano\\\\jan_hanford-24_preludes_for_solo_piano-23-prelude_no__23_in_a_minor-59-88.mp3',\n",
       " 'C:\\\\Users\\\\jiyun\\\\Desktop\\\\Jiyu\\\\2020-2021\\\\ESC499 - Thesis\\\\WaveNet\\\\magnatagatune\\\\data\\\\24_preludes_for_solo_piano\\\\jan_hanford-24_preludes_for_solo_piano-24-prelude_no__24_in_c_minor-0-29.mp3',\n",
       " 'C:\\\\Users\\\\jiyun\\\\Desktop\\\\Jiyu\\\\2020-2021\\\\ESC499 - Thesis\\\\WaveNet\\\\magnatagatune\\\\data\\\\24_preludes_for_solo_piano\\\\jan_hanford-24_preludes_for_solo_piano-24-prelude_no__24_in_c_minor-30-59.mp3',\n",
       " 'C:\\\\Users\\\\jiyun\\\\Desktop\\\\Jiyu\\\\2020-2021\\\\ESC499 - Thesis\\\\WaveNet\\\\magnatagatune\\\\data\\\\24_preludes_for_solo_piano\\\\jan_hanford-24_preludes_for_solo_piano-24-prelude_no__24_in_c_minor-59-88.mp3']"
      ]
     },
     "execution_count": 15,
     "metadata": {},
     "output_type": "execute_result"
    }
   ],
   "source": [
    "import glob\n",
    "filepath = r\"C:\\Users\\jiyun\\Desktop\\Jiyu\\2020-2021\\ESC499 - Thesis\\WaveNet\\magnatagatune\\data\\24_preludes_for_solo_piano\\\"\n",
    "glob.glob(filepath)"
   ]
  },
  {
   "cell_type": "code",
   "execution_count": 12,
   "metadata": {},
   "outputs": [
    {
     "name": "stderr",
     "output_type": "stream",
     "text": [
      "[autoreload of model failed: Traceback (most recent call last):\n",
      "  File \"C:\\Users\\jiyun\\anaconda3\\lib\\site-packages\\IPython\\extensions\\autoreload.py\", line 245, in check\n",
      "    superreload(m, reload, self.old_objects)\n",
      "  File \"C:\\Users\\jiyun\\anaconda3\\lib\\site-packages\\IPython\\extensions\\autoreload.py\", line 394, in superreload\n",
      "    module = reload(module)\n",
      "  File \"C:\\Users\\jiyun\\anaconda3\\lib\\imp.py\", line 314, in reload\n",
      "    return importlib.reload(module)\n",
      "  File \"C:\\Users\\jiyun\\anaconda3\\lib\\importlib\\__init__.py\", line 169, in reload\n",
      "    _bootstrap._exec(spec, module)\n",
      "  File \"<frozen importlib._bootstrap>\", line 604, in _exec\n",
      "  File \"<frozen importlib._bootstrap_external>\", line 779, in exec_module\n",
      "  File \"<frozen importlib._bootstrap_external>\", line 916, in get_code\n",
      "  File \"<frozen importlib._bootstrap_external>\", line 846, in source_to_code\n",
      "  File \"<frozen importlib._bootstrap>\", line 219, in _call_with_frames_removed\n",
      "  File \"C:\\Users\\jiyun\\Desktop\\Jiyu\\2020-2021\\ESC499 - Thesis\\WaveNet\\wavenet_pytorch\\model.py\", line 57\n",
      "    \n",
      "    ^\n",
      "SyntaxError: unexpected EOF while parsing\n",
      "]\n"
     ]
    },
    {
     "ename": "TypeError",
     "evalue": "scatter_() received an invalid combination of arguments - got (dim=int, index=numpy.ndarray, value=float, ), but expected one of:\n * (int dim, Tensor index, Tensor src)\n      didn't match because some of the keywords were incorrect: value\n * (int dim, Tensor index, Tensor src, *, str reduce)\n * (int dim, Tensor index, Number value)\n      didn't match because some of the arguments have invalid types: (\u001b[32;1mdim=int\u001b[0m, \u001b[31;1mindex=numpy.ndarray\u001b[0m, \u001b[31;1mvalue=float\u001b[0m, )\n * (int dim, Tensor index, Number value, *, str reduce)\n",
     "output_type": "error",
     "traceback": [
      "\u001b[1;31m---------------------------------------------------------------------------\u001b[0m",
      "\u001b[1;31mTypeError\u001b[0m                                 Traceback (most recent call last)",
      "\u001b[1;32m<ipython-input-12-32ef1d9c1376>\u001b[0m in \u001b[0;36m<module>\u001b[1;34m\u001b[0m\n\u001b[1;32m----> 1\u001b[1;33m \u001b[0mtorch\u001b[0m\u001b[1;33m.\u001b[0m\u001b[0mzeros\u001b[0m\u001b[1;33m(\u001b[0m\u001b[1;36m1\u001b[0m\u001b[1;33m,\u001b[0m \u001b[1;36m256\u001b[0m\u001b[1;33m,\u001b[0m \u001b[0my\u001b[0m\u001b[1;33m.\u001b[0m\u001b[0mshape\u001b[0m\u001b[1;33m[\u001b[0m\u001b[1;33m-\u001b[0m\u001b[1;36m1\u001b[0m\u001b[1;33m]\u001b[0m\u001b[1;33m)\u001b[0m\u001b[1;33m.\u001b[0m\u001b[0mto\u001b[0m\u001b[1;33m(\u001b[0m\u001b[1;34m'cuda'\u001b[0m\u001b[1;33m)\u001b[0m\u001b[1;33m.\u001b[0m\u001b[0mscatter_\u001b[0m\u001b[1;33m(\u001b[0m\u001b[0mdim\u001b[0m\u001b[1;33m=\u001b[0m\u001b[1;36m1\u001b[0m\u001b[1;33m,\u001b[0m \u001b[0mindex\u001b[0m\u001b[1;33m=\u001b[0m\u001b[0my\u001b[0m\u001b[1;33m.\u001b[0m\u001b[0mreshape\u001b[0m\u001b[1;33m(\u001b[0m\u001b[1;36m1\u001b[0m\u001b[1;33m,\u001b[0m\u001b[1;36m1\u001b[0m\u001b[1;33m,\u001b[0m\u001b[1;33m-\u001b[0m\u001b[1;36m1\u001b[0m\u001b[1;33m)\u001b[0m\u001b[1;33m,\u001b[0m \u001b[0mvalue\u001b[0m\u001b[1;33m=\u001b[0m\u001b[1;36m1.0\u001b[0m\u001b[1;33m)\u001b[0m\u001b[1;33m\u001b[0m\u001b[1;33m\u001b[0m\u001b[0m\n\u001b[0m",
      "\u001b[1;31mTypeError\u001b[0m: scatter_() received an invalid combination of arguments - got (dim=int, index=numpy.ndarray, value=float, ), but expected one of:\n * (int dim, Tensor index, Tensor src)\n      didn't match because some of the keywords were incorrect: value\n * (int dim, Tensor index, Tensor src, *, str reduce)\n * (int dim, Tensor index, Number value)\n      didn't match because some of the arguments have invalid types: (\u001b[32;1mdim=int\u001b[0m, \u001b[31;1mindex=numpy.ndarray\u001b[0m, \u001b[31;1mvalue=float\u001b[0m, )\n * (int dim, Tensor index, Number value, *, str reduce)\n"
     ]
    }
   ],
   "source": [
    "\n",
    "torch.zeros(1, 256, y.shape[-1]).to('cuda').scatter_(dim=1, index=y.reshape(1,1,-1), value=1.0)"
   ]
  },
  {
   "cell_type": "code",
   "execution_count": null,
   "metadata": {},
   "outputs": [],
   "source": [
    "[[2 ** i for i in range(self.layers)]] * self.blocks"
   ]
  },
  {
   "cell_type": "code",
   "execution_count": 8,
   "metadata": {},
   "outputs": [],
   "source": [
    "def mu_law_encoding(data, mu):\n",
    "    mu_x = np.sign(data) * np.log(1 + mu * np.abs(data)) / np.log(mu + 1)\n",
    "    return mu_x"
   ]
  },
  {
   "cell_type": "code",
   "execution_count": 12,
   "metadata": {},
   "outputs": [],
   "source": [
    "mu = mu_law_encoding(xs,classes)"
   ]
  },
  {
   "cell_type": "code",
   "execution_count": 13,
   "metadata": {},
   "outputs": [
    {
     "data": {
      "text/plain": [
       "((642185,), (642185,))"
      ]
     },
     "execution_count": 13,
     "metadata": {},
     "output_type": "execute_result"
    }
   ],
   "source": [
    "mu.shape, xs.shape"
   ]
  },
  {
   "cell_type": "code",
   "execution_count": 16,
   "metadata": {},
   "outputs": [
    {
     "data": {
      "text/plain": [
       "(0.89858073, -0.8916347)"
      ]
     },
     "execution_count": 16,
     "metadata": {},
     "output_type": "execute_result"
    }
   ],
   "source": [
    "mu.max(), mu.min()"
   ]
  },
  {
   "cell_type": "code",
   "execution_count": 17,
   "metadata": {},
   "outputs": [
    {
     "data": {
      "text/plain": [
       "(0.56794024, -0.5463184)"
      ]
     },
     "execution_count": 17,
     "metadata": {},
     "output_type": "execute_result"
    }
   ],
   "source": [
    "xs.max(), xs.min()"
   ]
  },
  {
   "cell_type": "code",
   "execution_count": 23,
   "metadata": {},
   "outputs": [
    {
     "data": {
      "text/plain": [
       "(633592,)"
      ]
     },
     "execution_count": 23,
     "metadata": {},
     "output_type": "execute_result"
    }
   ],
   "source": [
    "np.unique(mu).shape"
   ]
  },
  {
   "cell_type": "code",
   "execution_count": 18,
   "metadata": {},
   "outputs": [],
   "source": [
    "bins = np.linspace(-1, 1, classes)"
   ]
  },
  {
   "cell_type": "code",
   "execution_count": 19,
   "metadata": {},
   "outputs": [
    {
     "data": {
      "text/plain": [
       "array([-1.        , -0.99215686, -0.98431373, -0.97647059, -0.96862745,\n",
       "       -0.96078431, -0.95294118, -0.94509804, -0.9372549 , -0.92941176,\n",
       "       -0.92156863, -0.91372549, -0.90588235, -0.89803922, -0.89019608,\n",
       "       -0.88235294, -0.8745098 , -0.86666667, -0.85882353, -0.85098039,\n",
       "       -0.84313725, -0.83529412, -0.82745098, -0.81960784, -0.81176471,\n",
       "       -0.80392157, -0.79607843, -0.78823529, -0.78039216, -0.77254902,\n",
       "       -0.76470588, -0.75686275, -0.74901961, -0.74117647, -0.73333333,\n",
       "       -0.7254902 , -0.71764706, -0.70980392, -0.70196078, -0.69411765,\n",
       "       -0.68627451, -0.67843137, -0.67058824, -0.6627451 , -0.65490196,\n",
       "       -0.64705882, -0.63921569, -0.63137255, -0.62352941, -0.61568627,\n",
       "       -0.60784314, -0.6       , -0.59215686, -0.58431373, -0.57647059,\n",
       "       -0.56862745, -0.56078431, -0.55294118, -0.54509804, -0.5372549 ,\n",
       "       -0.52941176, -0.52156863, -0.51372549, -0.50588235, -0.49803922,\n",
       "       -0.49019608, -0.48235294, -0.4745098 , -0.46666667, -0.45882353,\n",
       "       -0.45098039, -0.44313725, -0.43529412, -0.42745098, -0.41960784,\n",
       "       -0.41176471, -0.40392157, -0.39607843, -0.38823529, -0.38039216,\n",
       "       -0.37254902, -0.36470588, -0.35686275, -0.34901961, -0.34117647,\n",
       "       -0.33333333, -0.3254902 , -0.31764706, -0.30980392, -0.30196078,\n",
       "       -0.29411765, -0.28627451, -0.27843137, -0.27058824, -0.2627451 ,\n",
       "       -0.25490196, -0.24705882, -0.23921569, -0.23137255, -0.22352941,\n",
       "       -0.21568627, -0.20784314, -0.2       , -0.19215686, -0.18431373,\n",
       "       -0.17647059, -0.16862745, -0.16078431, -0.15294118, -0.14509804,\n",
       "       -0.1372549 , -0.12941176, -0.12156863, -0.11372549, -0.10588235,\n",
       "       -0.09803922, -0.09019608, -0.08235294, -0.0745098 , -0.06666667,\n",
       "       -0.05882353, -0.05098039, -0.04313725, -0.03529412, -0.02745098,\n",
       "       -0.01960784, -0.01176471, -0.00392157,  0.00392157,  0.01176471,\n",
       "        0.01960784,  0.02745098,  0.03529412,  0.04313725,  0.05098039,\n",
       "        0.05882353,  0.06666667,  0.0745098 ,  0.08235294,  0.09019608,\n",
       "        0.09803922,  0.10588235,  0.11372549,  0.12156863,  0.12941176,\n",
       "        0.1372549 ,  0.14509804,  0.15294118,  0.16078431,  0.16862745,\n",
       "        0.17647059,  0.18431373,  0.19215686,  0.2       ,  0.20784314,\n",
       "        0.21568627,  0.22352941,  0.23137255,  0.23921569,  0.24705882,\n",
       "        0.25490196,  0.2627451 ,  0.27058824,  0.27843137,  0.28627451,\n",
       "        0.29411765,  0.30196078,  0.30980392,  0.31764706,  0.3254902 ,\n",
       "        0.33333333,  0.34117647,  0.34901961,  0.35686275,  0.36470588,\n",
       "        0.37254902,  0.38039216,  0.38823529,  0.39607843,  0.40392157,\n",
       "        0.41176471,  0.41960784,  0.42745098,  0.43529412,  0.44313725,\n",
       "        0.45098039,  0.45882353,  0.46666667,  0.4745098 ,  0.48235294,\n",
       "        0.49019608,  0.49803922,  0.50588235,  0.51372549,  0.52156863,\n",
       "        0.52941176,  0.5372549 ,  0.54509804,  0.55294118,  0.56078431,\n",
       "        0.56862745,  0.57647059,  0.58431373,  0.59215686,  0.6       ,\n",
       "        0.60784314,  0.61568627,  0.62352941,  0.63137255,  0.63921569,\n",
       "        0.64705882,  0.65490196,  0.6627451 ,  0.67058824,  0.67843137,\n",
       "        0.68627451,  0.69411765,  0.70196078,  0.70980392,  0.71764706,\n",
       "        0.7254902 ,  0.73333333,  0.74117647,  0.74901961,  0.75686275,\n",
       "        0.76470588,  0.77254902,  0.78039216,  0.78823529,  0.79607843,\n",
       "        0.80392157,  0.81176471,  0.81960784,  0.82745098,  0.83529412,\n",
       "        0.84313725,  0.85098039,  0.85882353,  0.86666667,  0.8745098 ,\n",
       "        0.88235294,  0.89019608,  0.89803922,  0.90588235,  0.91372549,\n",
       "        0.92156863,  0.92941176,  0.9372549 ,  0.94509804,  0.95294118,\n",
       "        0.96078431,  0.96862745,  0.97647059,  0.98431373,  0.99215686,\n",
       "        1.        ])"
      ]
     },
     "execution_count": 19,
     "metadata": {},
     "output_type": "execute_result"
    }
   ],
   "source": [
    "bins"
   ]
  },
  {
   "cell_type": "code",
   "execution_count": null,
   "metadata": {},
   "outputs": [],
   "source": []
  }
 ],
 "metadata": {
  "kernelspec": {
   "display_name": "Python 3",
   "language": "python",
   "name": "python3"
  },
  "language_info": {
   "codemirror_mode": {
    "name": "ipython",
    "version": 3
   },
   "file_extension": ".py",
   "mimetype": "text/x-python",
   "name": "python",
   "nbconvert_exporter": "python",
   "pygments_lexer": "ipython3",
   "version": "3.8.3"
  }
 },
 "nbformat": 4,
 "nbformat_minor": 4
}
