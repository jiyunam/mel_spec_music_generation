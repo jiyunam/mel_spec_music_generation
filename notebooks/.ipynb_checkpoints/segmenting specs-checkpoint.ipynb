{
 "cells": [
  {
   "cell_type": "code",
   "execution_count": null,
   "metadata": {},
   "outputs": [],
   "source": [
    "import librosa\n",
    "import soundfile as sf\n",
    "import torchaudio\n",
    "import torch\n",
    "import matplotlib.pyplot as plt"
   ]
  },
  {
   "cell_type": "code",
   "execution_count": null,
   "metadata": {},
   "outputs": [],
   "source": [
    "def spectrogram(waveform, sr, chunk_size_s=None, overlap=0, *, n_mels=80, n_fft=256):\n",
    "    if chunk_size_s == None:\n",
    "        return torchaudio.transforms.MelSpectrogram(n_mels=n_mels, n_fft=n_fft)(torch.Tensor(waveform).reshape(1,-1))\n",
    "\n",
    "    chunk_size = int(chunk_size_s * sr)\n",
    "    chunks = torch.FloatTensor(list(chunk_waveform(waveform, chunk_size, overlap)))\n",
    "    specgram = torchaudio.transforms.MelSpectrogram(n_mels=n_mels, n_fft=n_fft)(chunks)\n",
    "    return specgram\n",
    "\n",
    "def chunk_waveform(waveform, chunk_size, overlap):\n",
    "    idx = 0\n",
    "    # overlap_chunk = 0\n",
    "    overlap_chunk = int(overlap * chunk_size)\n",
    "    while idx + chunk_size - overlap_chunk <= len(waveform):\n",
    "        yield waveform[idx:idx + chunk_size - overlap_chunk]\n",
    "        idx += chunk_size - overlap_chunk"
   ]
  },
  {
   "cell_type": "code",
   "execution_count": null,
   "metadata": {},
   "outputs": [],
   "source": [
    "filepath = r\"C:\\Users\\jiyun\\Desktop\\Jiyu\\2020-2021\\ESC499 - Thesis\\WaveNet\\magnatagatune\\data\\simple\\macdonald-piano.mp3\"\n",
    "chunk_size_s = None\n",
    "overlap = 0\n",
    "\n",
    "waveform, sr = librosa.load(filepath)\n",
    "waveform = waveform[:int(sr*1.5)] # first note = \"C\" (3rd)\n",
    "specgram = spectrogram(waveform, sr, chunk_size_s=chunk_size_s, overlap=overlap)"
   ]
  }
 ],
 "metadata": {
  "kernelspec": {
   "display_name": "Python 3",
   "language": "python",
   "name": "python3"
  },
  "language_info": {
   "codemirror_mode": {
    "name": "ipython",
    "version": 3
   },
   "file_extension": ".py",
   "mimetype": "text/x-python",
   "name": "python",
   "nbconvert_exporter": "python",
   "pygments_lexer": "ipython3",
   "version": "3.8.3"
  }
 },
 "nbformat": 4,
 "nbformat_minor": 4
}
