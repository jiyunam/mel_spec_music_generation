{
 "cells": [
  {
   "cell_type": "code",
   "execution_count": 1,
   "metadata": {},
   "outputs": [
    {
     "name": "stderr",
     "output_type": "stream",
     "text": [
      "C:\\Users\\jiyun\\anaconda3\\lib\\site-packages\\torchaudio\\extension\\extension.py:14: UserWarning: torchaudio C++ extension is not available.\n",
      "  warnings.warn('torchaudio C++ extension is not available.')\n",
      "C:\\Users\\jiyun\\anaconda3\\lib\\site-packages\\torchaudio\\backend\\utils.py:63: UserWarning: The interface of \"soundfile\" backend is planned to change in 0.8.0 to match that of \"sox_io\" backend and the current interface will be removed in 0.9.0. To use the new interface, do `torchaudio.USE_SOUNDFILE_LEGACY_INTERFACE = False` before setting the backend to \"soundfile\". Please refer to https://github.com/pytorch/audio/issues/903 for the detail.\n",
      "  warnings.warn(\n"
     ]
    }
   ],
   "source": [
    "import librosa\n",
    "import torchaudio\n",
    "import torch\n",
    "import matplotlib.pyplot as plt\n",
    "import pandas as pd"
   ]
  },
  {
   "cell_type": "code",
   "execution_count": 2,
   "metadata": {},
   "outputs": [],
   "source": [
    "def spectrogram(waveform, sr, chunk_size_s=None, overlap=0):\n",
    "    if chunk_size_s == None:\n",
    "        return torchaudio.transforms.MelSpectrogram(n_mels=80, n_fft=256)(torch.Tensor(waveform).reshape(1,-1))\n",
    "\n",
    "    chunk_size = int(chunk_size_s * sr)\n",
    "\n",
    "    def chunk_waveform(waveform, chunk_size, overlap):\n",
    "        idx = 0\n",
    "        # overlap_chunk = 0\n",
    "        overlap_chunk = int(overlap * chunk_size)\n",
    "        while idx + chunk_size - overlap_chunk <= len(waveform):\n",
    "            yield waveform[idx:idx + chunk_size - overlap_chunk]\n",
    "            idx += chunk_size - overlap_chunk\n",
    "\n",
    "    chunks = torch.FloatTensor(list(chunk_waveform(waveform, chunk_size, overlap)))\n",
    "#     chunk = chunks[0]\n",
    "\n",
    "    specgram = torchaudio.transforms.MelSpectrogram(n_mels=80, n_fft=256)(chunks)\n",
    "#     specgram = torchaudio.transforms.MelSpectrogram(n_mels=80, n_fft=256)(chunk.reshape(1,-1))\n",
    "    return specgram"
   ]
  },
  {
   "cell_type": "code",
   "execution_count": 3,
   "metadata": {},
   "outputs": [
    {
     "name": "stderr",
     "output_type": "stream",
     "text": [
      "C:\\Users\\jiyun\\anaconda3\\lib\\site-packages\\librosa\\core\\audio.py:162: UserWarning: PySoundFile failed. Trying audioread instead.\n",
      "  warnings.warn(\"PySoundFile failed. Trying audioread instead.\")\n"
     ]
    }
   ],
   "source": [
    "filepath = r\"C:\\Users\\jiyun\\Desktop\\Jiyu\\2020-2021\\ESC499 - Thesis\\WaveNet\\magnatagatune\\data\\twinkle\\spider-piano.mp3\"\n",
    "chunk_size_s = None\n",
    "overlap = 0\n",
    "\n",
    "waveform, sr = librosa.load(filepath)"
   ]
  },
  {
   "cell_type": "code",
   "execution_count": 4,
   "metadata": {},
   "outputs": [
    {
     "data": {
      "text/plain": [
       "(932737, 22050)"
      ]
     },
     "execution_count": 4,
     "metadata": {},
     "output_type": "execute_result"
    }
   ],
   "source": [
    "len(waveform), sr"
   ]
  },
  {
   "cell_type": "code",
   "execution_count": null,
   "metadata": {},
   "outputs": [],
   "source": []
  }
 ],
 "metadata": {
  "kernelspec": {
   "display_name": "Python 3",
   "language": "python",
   "name": "python3"
  },
  "language_info": {
   "codemirror_mode": {
    "name": "ipython",
    "version": 3
   },
   "file_extension": ".py",
   "mimetype": "text/x-python",
   "name": "python",
   "nbconvert_exporter": "python",
   "pygments_lexer": "ipython3",
   "version": "3.8.3"
  }
 },
 "nbformat": 4,
 "nbformat_minor": 4
}
